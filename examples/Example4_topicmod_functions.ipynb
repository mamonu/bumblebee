{
 "cells": [
  {
   "cell_type": "markdown",
   "metadata": {},
   "source": [
    "# Using ```topicmod``` functions to easily apply topic modelling LDA and NMF techniques to text data stored in ```pandas.DataFrame``` "
   ]
  },
  {
   "cell_type": "markdown",
   "metadata": {},
   "source": [
    "In this example script, we show how ```nlpfunctions.topicmod``` functions can make it easy to apply Latent Derichlet Analysis (LDA) and Non-negative Matrix Factorization (NMF) models to text data and store the results in ```pandas.DataFrame``` so that they can be used in other analyses and explorations.\n",
    "\n",
    "We will:\n",
    "1. A\n",
    "2. B\n",
    "3. C\n",
    "4. D"
   ]
  },
  {
   "cell_type": "markdown",
   "metadata": {},
   "source": [
    "## Set ups and Imports"
   ]
  },
  {
   "cell_type": "markdown",
   "metadata": {},
   "source": [
    "Import modules and our user-defined functions"
   ]
  },
  {
   "cell_type": "code",
   "execution_count": 1,
   "metadata": {
    "scrolled": false
   },
   "outputs": [],
   "source": [
    "import os\n",
    "import re\n",
    "import time\n",
    "import string\n",
    "import pandas as pd\n",
    "import numpy as np\n",
    "import matplotlib.pyplot as plt\n",
    "from operator import itemgetter\n",
    "from nltk import word_tokenize\n",
    "from random import shuffle\n",
    "\n",
    "from sklearn.feature_extraction.text import CountVectorizer, TfidfVectorizer\n",
    "from sklearn.feature_extraction.text import TfidfTransformer\n",
    "from sklearn.preprocessing import LabelEncoder\n",
    "from sklearn.model_selection import GridSearchCV\n",
    "from sklearn.model_selection import train_test_split\n",
    "from sklearn.base import BaseEstimator, TransformerMixin\n",
    "\n",
    "from nlpbumblebee.utils import *\n",
    "from nlpbumblebee.basicnlp import *\n",
    "from nlpbumblebee.nlppipelineutils import *\n",
    "from nlpbumblebee.topicmod import *\n",
    "\n",
    "from gensim import models, corpora    #lda\n",
    "\n",
    "from sklearn import decomposition     #nmf\n",
    "\n"
   ]
  },
  {
   "cell_type": "code",
   "execution_count": 2,
   "metadata": {},
   "outputs": [],
   "source": [
    "pd.set_option('display.max_colwidth', -1)"
   ]
  },
  {
   "cell_type": "markdown",
   "metadata": {},
   "source": [
    "## Data\n",
    "\n",
    "We will use the same labelled text data as in Example 2 and 3 from \"From Group to Individual Labels using Deep Features', Kotzias et. al,. KDD 2015\" (available here)"
   ]
  },
  {
   "cell_type": "code",
   "execution_count": 3,
   "metadata": {},
   "outputs": [],
   "source": [
    "#df = pd.read_excel('Data/imdb.xlsx', header=0)\n",
    "df = pd.read_excel('Data/yelp_labelled.xlsx', header=0)\n",
    "\n",
    "#df['source'] = 'imdb'\n",
    "df['source'] = 'yelp'\n",
    "\n",
    "df[df.duplicated('text')]\n",
    "df = df.drop_duplicates('text')\n",
    "\n",
    "df[pd.isnull(df['text'])]   #yep, 1 case\n",
    "df = df[pd.notnull(df['text'])]   "
   ]
  },
  {
   "cell_type": "code",
   "execution_count": 4,
   "metadata": {},
   "outputs": [
    {
     "name": "stdout",
     "output_type": "stream",
     "text": [
      "                                                                                      text  \\\n",
      "0  Wow... Loved this place.                                                                  \n",
      "1  Crust is not good.                                                                        \n",
      "2  Not tasty and the texture was just nasty.                                                 \n",
      "3  Stopped by during the late May bank holiday off Rick Steve recommendation and loved it.   \n",
      "4  The selection on the menu was great and so were the prices.                               \n",
      "\n",
      "   score source  \n",
      "0  1      yelp   \n",
      "1  0      yelp   \n",
      "2  0      yelp   \n",
      "3  1      yelp   \n",
      "4  1      yelp   \n"
     ]
    }
   ],
   "source": [
    "print(df.head())"
   ]
  },
  {
   "cell_type": "markdown",
   "metadata": {},
   "source": [
    "### Word frequency"
   ]
  },
  {
   "cell_type": "markdown",
   "metadata": {},
   "source": [
    "Let's take a look at the most frequent words"
   ]
  },
  {
   "cell_type": "code",
   "execution_count": 5,
   "metadata": {},
   "outputs": [
    {
     "data": {
      "text/html": [
       "<div>\n",
       "<style scoped>\n",
       "    .dataframe tbody tr th:only-of-type {\n",
       "        vertical-align: middle;\n",
       "    }\n",
       "\n",
       "    .dataframe tbody tr th {\n",
       "        vertical-align: top;\n",
       "    }\n",
       "\n",
       "    .dataframe thead th {\n",
       "        text-align: right;\n",
       "    }\n",
       "</style>\n",
       "<table border=\"1\" class=\"dataframe\">\n",
       "  <thead>\n",
       "    <tr style=\"text-align: right;\">\n",
       "      <th></th>\n",
       "      <th>0</th>\n",
       "      <th>1</th>\n",
       "      <th>2</th>\n",
       "      <th>3</th>\n",
       "      <th>4</th>\n",
       "      <th>5</th>\n",
       "      <th>6</th>\n",
       "      <th>7</th>\n",
       "      <th>8</th>\n",
       "      <th>9</th>\n",
       "      <th>...</th>\n",
       "      <th>15</th>\n",
       "      <th>16</th>\n",
       "      <th>17</th>\n",
       "      <th>18</th>\n",
       "      <th>19</th>\n",
       "      <th>20</th>\n",
       "      <th>21</th>\n",
       "      <th>22</th>\n",
       "      <th>23</th>\n",
       "      <th>24</th>\n",
       "    </tr>\n",
       "  </thead>\n",
       "  <tbody>\n",
       "    <tr>\n",
       "      <th>word</th>\n",
       "      <td>the</td>\n",
       "      <td>and</td>\n",
       "      <td>I</td>\n",
       "      <td>was</td>\n",
       "      <td>a</td>\n",
       "      <td>to</td>\n",
       "      <td>The</td>\n",
       "      <td>is</td>\n",
       "      <td>of</td>\n",
       "      <td>for</td>\n",
       "      <td>...</td>\n",
       "      <td>place</td>\n",
       "      <td>with</td>\n",
       "      <td>had</td>\n",
       "      <td>be</td>\n",
       "      <td>are</td>\n",
       "      <td>were</td>\n",
       "      <td>very</td>\n",
       "      <td>that</td>\n",
       "      <td>have</td>\n",
       "      <td>so</td>\n",
       "    </tr>\n",
       "    <tr>\n",
       "      <th>count</th>\n",
       "      <td>404</td>\n",
       "      <td>378</td>\n",
       "      <td>291</td>\n",
       "      <td>290</td>\n",
       "      <td>227</td>\n",
       "      <td>213</td>\n",
       "      <td>176</td>\n",
       "      <td>170</td>\n",
       "      <td>123</td>\n",
       "      <td>102</td>\n",
       "      <td>...</td>\n",
       "      <td>76</td>\n",
       "      <td>71</td>\n",
       "      <td>65</td>\n",
       "      <td>64</td>\n",
       "      <td>62</td>\n",
       "      <td>61</td>\n",
       "      <td>60</td>\n",
       "      <td>59</td>\n",
       "      <td>59</td>\n",
       "      <td>58</td>\n",
       "    </tr>\n",
       "  </tbody>\n",
       "</table>\n",
       "<p>2 rows × 25 columns</p>\n",
       "</div>"
      ],
      "text/plain": [
       "         0    1    2    3    4    5    6    7    8    9 ...     15    16   17  \\\n",
       "word   the  and  I    was  a    to   The  is   of   for ...  place  with  had   \n",
       "count  404  378  291  290  227  213  176  170  123  102 ...  76     71    65    \n",
       "\n",
       "       18   19    20    21    22    23  24  \n",
       "word   be  are  were  very  that  have  so  \n",
       "count  64  62   61    60    59    59    58  \n",
       "\n",
       "[2 rows x 25 columns]"
      ]
     },
     "execution_count": 5,
     "metadata": {},
     "output_type": "execute_result"
    },
    {
     "data": {
      "image/png": "[encoded data removed]",
      "text/plain": [
       "<Figure size 432x288 with 1 Axes>"
      ]
     },
     "metadata": {
      "needs_background": "light"
     },
     "output_type": "display_data"
    }
   ],
   "source": [
    "# Plot most frequent words\n",
    "\n",
    "# https://www.kaggle.com/arthurtok/spooky-nlp-and-topic-modelling-tutorial\n",
    "all_words = df['text'].str.split(expand=True).unstack().value_counts()\n",
    "all_words = all_words.to_frame().reset_index().rename(columns = {'index' : 'word', 0 : 'count'})\n",
    "\n",
    "# get 25 more frequent words\n",
    "all_words[:25].plot.bar(x='word')\n",
    "all_words[:25].T\n",
    "\n",
    "#lots of \"rubbish\"..."
   ]
  },
  {
   "cell_type": "markdown",
   "metadata": {},
   "source": [
    "### Clean text data for topic modelling\n"
   ]
  },
  {
   "cell_type": "markdown",
   "metadata": {},
   "source": [
    "We will:\n",
    "1. tokenise\n",
    "2. lower case\n",
    "3. remove stopwords\n",
    "4. remove non-alphabetic tokens (i.e., punctuations and numbers)\n",
    "5. lemmatise"
   ]
  },
  {
   "cell_type": "code",
   "execution_count": 6,
   "metadata": {},
   "outputs": [],
   "source": [
    "preprocessing_pipe = combine_functions(sent_tokenise\n",
    "                                       ,remove_punctuation\n",
    "                                       ,word_tokenise\n",
    "                                       ,to_lower\n",
    "                                       ,POS_tagging\n",
    "                                       ,lemmatise\n",
    "                                       ,fix_neg_auxiliary\n",
    "                                       ,lambda s: [[re.sub(r'\\d+','',x) for x in subs] for subs in s]\n",
    "                                       ,lambda x : remove_stopwords(x, extra_stopwords = [\n",
    "                                           'x', \"'s\", \"not\", 'us', 'no', 'many', 'much', 'one', 'put', 've',\n",
    "                                           'wo', 'even', 'first', 'may', 'late', 'come', 'iam', 'ive', 'ill',\n",
    "                                           'good', 'bad', 'great', 'sure', 'best', 'quite', 'per', 'due', 'always',\n",
    "                                           'say', 'want', 'm', 'ever', 'every', 'really', 'well', 'little', 'd',\n",
    "                                           'also', 'get', 'would', 'could', 'like', 'go', 'lot', 'make'])\n",
    "                                       ,flattenIrregularListOfLists\n",
    "                                       ,lambda x: list(filter(None, x))\n",
    "                                      )   "
   ]
  },
  {
   "cell_type": "code",
   "execution_count": 7,
   "metadata": {
    "scrolled": true
   },
   "outputs": [
    {
     "data": {
      "text/html": [
       "<div>\n",
       "<style scoped>\n",
       "    .dataframe tbody tr th:only-of-type {\n",
       "        vertical-align: middle;\n",
       "    }\n",
       "\n",
       "    .dataframe tbody tr th {\n",
       "        vertical-align: top;\n",
       "    }\n",
       "\n",
       "    .dataframe thead th {\n",
       "        text-align: right;\n",
       "    }\n",
       "</style>\n",
       "<table border=\"1\" class=\"dataframe\">\n",
       "  <thead>\n",
       "    <tr style=\"text-align: right;\">\n",
       "      <th></th>\n",
       "      <th>text</th>\n",
       "      <th>text_lemmas</th>\n",
       "    </tr>\n",
       "  </thead>\n",
       "  <tbody>\n",
       "    <tr>\n",
       "      <th>0</th>\n",
       "      <td>Wow... Loved this place.</td>\n",
       "      <td>[wow, love, place]</td>\n",
       "    </tr>\n",
       "    <tr>\n",
       "      <th>1</th>\n",
       "      <td>Crust is not good.</td>\n",
       "      <td>[crust]</td>\n",
       "    </tr>\n",
       "    <tr>\n",
       "      <th>2</th>\n",
       "      <td>Not tasty and the texture was just nasty.</td>\n",
       "      <td>[tasty, texture, nasty]</td>\n",
       "    </tr>\n",
       "    <tr>\n",
       "      <th>3</th>\n",
       "      <td>Stopped by during the late May bank holiday off Rick Steve recommendation and loved it.</td>\n",
       "      <td>[stop, bank, holiday, rick, steve, recommendation, love]</td>\n",
       "    </tr>\n",
       "    <tr>\n",
       "      <th>4</th>\n",
       "      <td>The selection on the menu was great and so were the prices.</td>\n",
       "      <td>[selection, menu, price]</td>\n",
       "    </tr>\n",
       "  </tbody>\n",
       "</table>\n",
       "</div>"
      ],
      "text/plain": [
       "                                                                                      text  \\\n",
       "0  Wow... Loved this place.                                                                  \n",
       "1  Crust is not good.                                                                        \n",
       "2  Not tasty and the texture was just nasty.                                                 \n",
       "3  Stopped by during the late May bank holiday off Rick Steve recommendation and loved it.   \n",
       "4  The selection on the menu was great and so were the prices.                               \n",
       "\n",
       "                                                text_lemmas  \n",
       "0  [wow, love, place]                                        \n",
       "1  [crust]                                                   \n",
       "2  [tasty, texture, nasty]                                   \n",
       "3  [stop, bank, holiday, rick, steve, recommendation, love]  \n",
       "4  [selection, menu, price]                                  "
      ]
     },
     "execution_count": 7,
     "metadata": {},
     "output_type": "execute_result"
    }
   ],
   "source": [
    "df['text_lemmas'] = df['text'].apply(lambda x: preprocessing_pipe(x))\n",
    "\n",
    "# check some texts\n",
    "df[['text', 'text_lemmas']][:5]"
   ]
  },
  {
   "cell_type": "markdown",
   "metadata": {},
   "source": [
    "### Lemma frequency"
   ]
  },
  {
   "cell_type": "code",
   "execution_count": 8,
   "metadata": {},
   "outputs": [
    {
     "data": {
      "text/html": [
       "<div>\n",
       "<style scoped>\n",
       "    .dataframe tbody tr th:only-of-type {\n",
       "        vertical-align: middle;\n",
       "    }\n",
       "\n",
       "    .dataframe tbody tr th {\n",
       "        vertical-align: top;\n",
       "    }\n",
       "\n",
       "    .dataframe thead th {\n",
       "        text-align: right;\n",
       "    }\n",
       "</style>\n",
       "<table border=\"1\" class=\"dataframe\">\n",
       "  <thead>\n",
       "    <tr style=\"text-align: right;\">\n",
       "      <th></th>\n",
       "      <th>0</th>\n",
       "      <th>1</th>\n",
       "      <th>2</th>\n",
       "      <th>3</th>\n",
       "      <th>4</th>\n",
       "      <th>5</th>\n",
       "      <th>6</th>\n",
       "      <th>7</th>\n",
       "      <th>8</th>\n",
       "      <th>9</th>\n",
       "      <th>...</th>\n",
       "      <th>15</th>\n",
       "      <th>16</th>\n",
       "      <th>17</th>\n",
       "      <th>18</th>\n",
       "      <th>19</th>\n",
       "      <th>20</th>\n",
       "      <th>21</th>\n",
       "      <th>22</th>\n",
       "      <th>23</th>\n",
       "      <th>24</th>\n",
       "    </tr>\n",
       "  </thead>\n",
       "  <tbody>\n",
       "    <tr>\n",
       "      <th>word</th>\n",
       "      <td>food</td>\n",
       "      <td>place</td>\n",
       "      <td>service</td>\n",
       "      <td>back</td>\n",
       "      <td>time</td>\n",
       "      <td>eat</td>\n",
       "      <td>love</td>\n",
       "      <td>wait</td>\n",
       "      <td>restaurant</td>\n",
       "      <td>dont</td>\n",
       "      <td>...</td>\n",
       "      <td>think</td>\n",
       "      <td>taste</td>\n",
       "      <td>experience</td>\n",
       "      <td>im</td>\n",
       "      <td>minute</td>\n",
       "      <td>staff</td>\n",
       "      <td>price</td>\n",
       "      <td>pretty</td>\n",
       "      <td>star</td>\n",
       "      <td>server</td>\n",
       "    </tr>\n",
       "    <tr>\n",
       "      <th>count</th>\n",
       "      <td>123</td>\n",
       "      <td>110</td>\n",
       "      <td>84</td>\n",
       "      <td>60</td>\n",
       "      <td>55</td>\n",
       "      <td>31</td>\n",
       "      <td>30</td>\n",
       "      <td>29</td>\n",
       "      <td>28</td>\n",
       "      <td>28</td>\n",
       "      <td>...</td>\n",
       "      <td>22</td>\n",
       "      <td>21</td>\n",
       "      <td>21</td>\n",
       "      <td>21</td>\n",
       "      <td>19</td>\n",
       "      <td>19</td>\n",
       "      <td>19</td>\n",
       "      <td>19</td>\n",
       "      <td>18</td>\n",
       "      <td>18</td>\n",
       "    </tr>\n",
       "  </tbody>\n",
       "</table>\n",
       "<p>2 rows × 25 columns</p>\n",
       "</div>"
      ],
      "text/plain": [
       "          0      1        2     3     4    5     6     7           8     9  \\\n",
       "word   food  place  service  back  time  eat  love  wait  restaurant  dont   \n",
       "count  123   110    84       60    55    31   30    29    28          28     \n",
       "\n",
       "        ...       15     16          17  18      19     20     21      22  \\\n",
       "word    ...    think  taste  experience  im  minute  staff  price  pretty   \n",
       "count   ...    22     21     21          21  19      19     19     19       \n",
       "\n",
       "         23      24  \n",
       "word   star  server  \n",
       "count  18    18      \n",
       "\n",
       "[2 rows x 25 columns]"
      ]
     },
     "execution_count": 8,
     "metadata": {},
     "output_type": "execute_result"
    },
    {
     "data": {
      "image/png": "[encoded data removed]",
      "text/plain": [
       "<Figure size 432x288 with 1 Axes>"
      ]
     },
     "metadata": {
      "needs_background": "light"
     },
     "output_type": "display_data"
    }
   ],
   "source": [
    "# re-plot most frequent words\n",
    "\n",
    "all_lemmas = df['text_lemmas'].apply(list2string).str.split(expand=True).unstack().value_counts()\n",
    "all_lemmas = all_lemmas.to_frame().reset_index().rename(columns = {'index' : 'word', 0 : 'count'})\n",
    "\n",
    "# get 25 more frequent lemmas\n",
    "all_lemmas[:25].plot.bar(x='word')\n",
    "all_lemmas[:25].T\n",
    "\n",
    "# much better!"
   ]
  },
  {
   "cell_type": "markdown",
   "metadata": {},
   "source": [
    "## Topic modelling with Latent Dirichlet Analysis (LDA)\n",
    "\n",
    "LDA is a topic discovery technique. It is a generative statistical topic model used to find accurate sets of topics within a given document set. The model assumes that text documents are comprised of a mixture of topics, and each topic is represented as the probability that each of given set of terms will occur. From there, using probability distributions the model can determine which topics are in a given document and which words are in a given topic based on word prevalence across topics and topic prevalence across document. A unique feature of LDA models is that topics are not required to be distinct, and words may occur in multiple topics\n",
    "\n",
    "Ref: \n",
    "\n",
    "https://medium.com/square-corner-blog/topic-modeling-optimizing-for-human-interpretability-48a81f6ce0ed\n",
    "\n",
    "https://towardsdatascience.com/topic-modeling-and-latent-dirichlet-allocation-in-python-9bf156893c24"
   ]
  },
  {
   "cell_type": "markdown",
   "metadata": {},
   "source": [
    "**Please note**: As of today, September 2018, there seems to be a bug introduced in a recent version of ```gensim```, the way it interacts with ```numpy``` which is used for all the computations. Downgrading to gensim 3.1.0 seems to solve the problem (ref: https://github.com/RaRe-Technologies/gensim/issues/2115).\n",
    "To do this please type ```$ pip install gensim==3.1.0``` in your Terminal.\n"
   ]
  },
  {
   "cell_type": "markdown",
   "metadata": {},
   "source": [
    "### (1) Create a dictionary containing the number of times a word appears in the corpus of texts"
   ]
  },
  {
   "cell_type": "code",
   "execution_count": 9,
   "metadata": {},
   "outputs": [],
   "source": [
    "# Build a Dictionary = association word to numeric id\n",
    "# assigning a unique integer id to each unique word while also collecting word counts and relevant statistics. \n",
    "dictionary = corpora.Dictionary(df['text_lemmas'])"
   ]
  },
  {
   "cell_type": "code",
   "execution_count": 10,
   "metadata": {},
   "outputs": [
    {
     "name": "stdout",
     "output_type": "stream",
     "text": [
      "1640\n"
     ]
    }
   ],
   "source": [
    "# what's the vocabulary size?\n",
    "print(len(dictionary.token2id.keys()))\n",
    "\n",
    "# take a look (first 25 entries in the dictionary)\n",
    "#for k, v in dictionary.token2id.items(): \n",
    "#    print(\"{} : {}\".format(k, v))"
   ]
  },
  {
   "cell_type": "markdown",
   "metadata": {},
   "source": [
    "### (2) Filter out words that occur too frequently or too rarely.\n",
    "\n",
    "When dealing with a bigger corpus than the one used in his example, you may want to further clean the text data by excluding words that occur in:\n",
    "- less than X texts (absolute number) or (infrequent words)\n",
    "- more than 0.p documents (fraction of total corpus size, not absolute number) (too frequent words).\n",
    "- after the above two steps, keep only the first 100000 most frequent tokens."
   ]
  },
  {
   "cell_type": "code",
   "execution_count": 11,
   "metadata": {},
   "outputs": [],
   "source": [
    "min_wordcount = 10\n",
    "max_freq = 0.6\n",
    "\n",
    "dictionary.filter_extremes(no_below=min_wordcount,\n",
    "                            no_above=max_freq,\n",
    "                            keep_n=100000)"
   ]
  },
  {
   "cell_type": "markdown",
   "metadata": {},
   "source": [
    "Let's see what our dictionary size has become now..."
   ]
  },
  {
   "cell_type": "code",
   "execution_count": 12,
   "metadata": {},
   "outputs": [
    {
     "name": "stdout",
     "output_type": "stream",
     "text": [
      "79\n"
     ]
    }
   ],
   "source": [
    "print(len(dictionary.token2id.keys()))\n",
    "#...  too harsh filtering?"
   ]
  },
  {
   "cell_type": "markdown",
   "metadata": {},
   "source": [
    "### (3) From texts as documents to Document Term Matrix\n",
    "\n",
    "Transform the collection of texts to a numerical form: For each text, report how many many times each occurring word appears. I.e., Convert the list of documents (corpus) into a Document Term Matrix using the dictionary prepared above.\n"
   ]
  },
  {
   "cell_type": "code",
   "execution_count": 13,
   "metadata": {},
   "outputs": [],
   "source": [
    "bow_corpus = [dictionary.doc2bow(text) for text in df['text_lemmas']]"
   ]
  },
  {
   "cell_type": "code",
   "execution_count": 14,
   "metadata": {},
   "outputs": [
    {
     "name": "stdout",
     "output_type": "stream",
     "text": [
      "<class 'list'>\n",
      "993\n",
      "[[(0, 1), (1, 1)], [], [(2, 1)], [(0, 1)], [(3, 1), (4, 1), (5, 1)]]\n"
     ]
    }
   ],
   "source": [
    "print(type(bow_corpus))\n",
    "print(len(bow_corpus))\n",
    "print(bow_corpus[:5])"
   ]
  },
  {
   "cell_type": "code",
   "execution_count": 15,
   "metadata": {},
   "outputs": [
    {
     "name": "stdout",
     "output_type": "stream",
     "text": [
      "                 text text_lemmas\n",
      "1  Crust is not good.  [crust]   \n",
      "[]\n"
     ]
    }
   ],
   "source": [
    "# Have a look at how the 1st text looks like: [(word_id, count), ...]\n",
    "\n",
    "print( df[['text', 'text_lemmas']][1:2] )\n",
    "print( bow_corpus[1] )\n",
    "\n",
    "for i in range(len(bow_corpus[1])):\n",
    "    print(\"Word {} (\\\"{}\\\") appears {} time.\".format(bow_corpus[1][i][0],\n",
    "          dictionary[bow_corpus[1][i][0]], \n",
    "          bow_corpus[1][i][1]))\n"
   ]
  },
  {
   "cell_type": "markdown",
   "metadata": {},
   "source": [
    "### (4) Find the best number of topics\n",
    "\n",
    "#### Perplexity\n",
    "\n",
    "Perplexity is a standard measure for estimating the performance of a probabilistic model: it measures how well the probabilistic model predicts a sample. The perplexity of a set of test words, is defined as the exponential of the negative normalized predictive likelihood under the model. \n",
    "\n",
    "One should expect \"in-sample\" perplexity to improve with more topics, but that the improvement would level off as the model captures all but the most trivial structures in the data. So the ideal number of topics should be the poin where perplexity starts to level off. \n",
    "\n",
    "Ref: \n",
    "\n",
    "https://docs.google.com/viewer?a=v&pid=forums&srcid=MDEwMDM0NjcxOTk3Njc0MTA0MjMBMTQzMzY3Nzc1NTMzNDgyNjIyMzEBZnBOMFVLSG9BZ0FKATAuMwEBdjI&authuser=0\n",
    "\n",
    "https://groups.google.com/forum/#!topic/gensim/BDuOnCGpgOs\n",
    "\n",
    "http://qpleple.com/perplexity-to-evaluate-topic-models/\n",
    "\n",
    "https://groups.google.com/forum/#!topic/gensim/TpuYRxhyIOc\n",
    "\n",
    "\n",
    "**Important**: However, please note that it has been shown that perplexity doesn't correlate well with human judgements of topic coherence. \n",
    "\n",
    "Other coherence measures have been suggested that have performed better. Example: https://www.kdnuggets.com/2016/07/americas-next-topic-model.html\n",
    "\n",
    "\n",
    "TODO: turn this into a function\n"
   ]
  },
  {
   "cell_type": "code",
   "execution_count": 16,
   "metadata": {},
   "outputs": [
    {
     "name": "stdout",
     "output_type": "stream",
     "text": [
      "1302\n",
      "308\n"
     ]
    }
   ],
   "source": [
    "# (i) divide corpus in training and test corpus. The test corpus will be used to calculate perplexity\n",
    "    \n",
    "shuffle(bow_corpus)\n",
    "\n",
    "train_corpus, test_corpus = bow_corpus[:800], bow_corpus[800:]\n",
    "\n",
    "# Number of words in the training set and in the test set\n",
    "print(sum(cnt for document in train_corpus for _, cnt in document))\n",
    "print(sum(cnt for document in test_corpus for _, cnt in document))\n"
   ]
  },
  {
   "cell_type": "code",
   "execution_count": 17,
   "metadata": {},
   "outputs": [
    {
     "data": {
      "text/plain": [
       "[[(22, 1), (66, 1)], [(1, 1)]]"
      ]
     },
     "execution_count": 17,
     "metadata": {},
     "output_type": "execute_result"
    }
   ],
   "source": [
    "train_corpus[:2]"
   ]
  },
  {
   "cell_type": "code",
   "execution_count": 18,
   "metadata": {},
   "outputs": [
    {
     "name": "stdout",
     "output_type": "stream",
     "text": [
      "number of topics :  2\n"
     ]
    },
    {
     "name": "stderr",
     "output_type": "stream",
     "text": [
      "/home/michaela/anaconda3/lib/python3.7/site-packages/gensim/models/ldamodel.py:1023: RuntimeWarning: divide by zero encountered in log\n",
      "  diff = np.log(self.expElogbeta)\n"
     ]
    },
    {
     "name": "stdout",
     "output_type": "stream",
     "text": [
      "per-word likelihood bound      -5.896702794551656\n",
      "perplexity : exp(-bound)                              363.8358464224428\n",
      "elapsed time: 3.252\n",
      " \n",
      "number of topics :  3\n",
      "per-word likelihood bound      -6.195260131659059\n",
      "perplexity : exp(-bound)                              490.4190019151045\n",
      "elapsed time: 3.385\n",
      " \n",
      "number of topics :  4\n",
      "per-word likelihood bound      -6.3538238262007765\n",
      "perplexity : exp(-bound)                              574.6860123670906\n",
      "elapsed time: 3.366\n",
      " \n",
      "number of topics :  5\n",
      "per-word likelihood bound      -6.455445039872226\n",
      "perplexity : exp(-bound)                              636.1567783947216\n",
      "elapsed time: 3.479\n",
      " \n",
      "number of topics :  7\n",
      "per-word likelihood bound      -6.397302296351302\n",
      "perplexity : exp(-bound)                              600.2236263446933\n",
      "elapsed time: 3.406\n",
      " \n",
      "number of topics :  8\n",
      "per-word likelihood bound      -6.3348025481228705\n",
      "perplexity : exp(-bound)                              563.858057160889\n",
      "elapsed time: 3.523\n",
      " \n",
      "number of topics :  9\n",
      "per-word likelihood bound      -6.552454408379151\n",
      "perplexity : exp(-bound)                              700.9625124649376\n",
      "elapsed time: 3.503\n",
      " \n",
      "number of topics :  10\n",
      "per-word likelihood bound      -6.492341080475514\n",
      "perplexity : exp(-bound)                              660.0668253831543\n",
      "elapsed time: 3.456\n",
      " \n",
      "number of topics :  15\n",
      "per-word likelihood bound      -6.437170075615505\n",
      "perplexity : exp(-bound)                              624.6366218503457\n",
      "elapsed time: 3.531\n",
      " \n",
      "number of topics :  20\n",
      "per-word likelihood bound      -6.207742929458618\n",
      "perplexity : exp(-bound)                              496.5791712373883\n",
      "elapsed time: 3.501\n",
      " \n",
      "number of topics :  25\n",
      "per-word likelihood bound      -6.195113040410079\n",
      "perplexity : exp(-bound)                              490.34687087664156\n",
      "elapsed time: 3.545\n",
      " \n",
      "number of topics :  30\n",
      "per-word likelihood bound      -6.235320800310605\n",
      "perplexity : exp(-bound)                              510.4643493062427\n",
      "elapsed time: 3.573\n",
      " \n",
      "number of topics :  35\n",
      "per-word likelihood bound      -6.130100170126209\n",
      "perplexity : exp(-bound)                              459.48218476321506\n",
      "elapsed time: 3.665\n",
      " \n"
     ]
    }
   ],
   "source": [
    "# (ii) loop on training set for several numbers of topics: \n",
    "topics_seq = list((2,3,4,5,7,8,9,10, 15, 20, 25, 30, 35))\n",
    "\n",
    "results_perplexity = {}\n",
    "for topic_n in topics_seq:\n",
    "    start_time = time.time()\n",
    "    # run model\n",
    "    print('number of topics :  %d' % topic_n)\n",
    "    \n",
    "    model = models.LdaModel(corpus=train_corpus\n",
    "                             , num_topics=topic_n\n",
    "                             , id2word=dictionary\n",
    "                             , passes = 20  # as we have a small corpus\n",
    "                             , eta = 0.01 # topics are known to be word-sparse, the Dirichlet parameter of the word distributions is set small (e.g., 0.01), in which case learning is efficient.\n",
    "                             , alpha = 0.1    #believed that each document is associated with few topics\n",
    "                             , random_state = 1\n",
    "                             )\n",
    "    elapsed = time.time() - start_time\n",
    "    \n",
    "    # perplexity on hold-out test data\n",
    "    log_perplexity = model.log_perplexity(test_corpus)              # this is actually per-word likelihood bound\n",
    "    perplexity_test = np.exp(-log_perplexity.astype(np.float64))    # https://stats.stackexchange.com/a/324243\n",
    "    \n",
    "    print('per-word likelihood bound     ', log_perplexity)\n",
    "    print('perplexity : exp(-bound)                             ', perplexity_test)\n",
    "    print('elapsed time: %.3f' % elapsed)  \n",
    "    print( ' ')\n",
    "    results_perplexity[topic_n] = perplexity_test\n",
    "    \n"
   ]
  },
  {
   "cell_type": "code",
   "execution_count": 19,
   "metadata": {},
   "outputs": [
    {
     "data": {
      "text/plain": [
       "{2: 363.8358464224428,\n",
       " 3: 490.4190019151045,\n",
       " 4: 574.6860123670906,\n",
       " 5: 636.1567783947216,\n",
       " 7: 600.2236263446933,\n",
       " 8: 563.858057160889,\n",
       " 9: 700.9625124649376,\n",
       " 10: 660.0668253831543,\n",
       " 15: 624.6366218503457,\n",
       " 20: 496.5791712373883,\n",
       " 25: 490.34687087664156,\n",
       " 30: 510.4643493062427,\n",
       " 35: 459.48218476321506}"
      ]
     },
     "execution_count": 19,
     "metadata": {},
     "output_type": "execute_result"
    }
   ],
   "source": [
    "results_perplexity"
   ]
  },
  {
   "cell_type": "code",
   "execution_count": 20,
   "metadata": {
    "scrolled": false
   },
   "outputs": [
    {
     "data": {
      "text/plain": [
       "[<matplotlib.lines.Line2D at 0x7fe0a786fd30>]"
      ]
     },
     "execution_count": 20,
     "metadata": {},
     "output_type": "execute_result"
    },
    {
     "data": {
      "image/png": "[encoded data removed]",
      "text/plain": [
       "<Figure size 432x288 with 1 Axes>"
      ]
     },
     "metadata": {
      "needs_background": "light"
     },
     "output_type": "display_data"
    }
   ],
   "source": [
    "# plot of perplexity versus number of topics\n",
    "plt.plot(results_perplexity.keys(), results_perplexity.values(), 'r--',)"
   ]
  },
  {
   "cell_type": "code",
   "execution_count": 21,
   "metadata": {},
   "outputs": [
    {
     "data": {
      "image/png": "[encoded data removed]",
      "text/plain": [
       "<Figure size 432x288 with 1 Axes>"
      ]
     },
     "metadata": {
      "needs_background": "light"
     },
     "output_type": "display_data"
    }
   ],
   "source": [
    "plt.title('Perplexity')\n",
    "plt.xlabel('Topics')\n",
    "plt.ylabel('Perplexity')\n",
    "plt.grid(True) \n",
    "plt.show()\n",
    "\n",
    "# Perplexiy seems to suggest 8 topics: "
   ]
  },
  {
   "cell_type": "markdown",
   "metadata": {},
   "source": [
    "### (5) Build an lda model with the suggested number of topics"
   ]
  },
  {
   "cell_type": "code",
   "execution_count": 22,
   "metadata": {},
   "outputs": [
    {
     "name": "stderr",
     "output_type": "stream",
     "text": [
      "/home/michaela/anaconda3/lib/python3.7/site-packages/gensim/models/ldamodel.py:1023: RuntimeWarning: divide by zero encountered in log\n",
      "  diff = np.log(self.expElogbeta)\n"
     ]
    }
   ],
   "source": [
    "# Build the lda model with the suggested number of topics\n",
    "\n",
    "NUM_TOPICS = 8\n",
    "\n",
    "lda_model_1 = models.LdaModel(corpus=bow_corpus\n",
    "                             , num_topics=NUM_TOPICS\n",
    "                             , id2word=dictionary\n",
    "                             , passes = 20  # as we have a small corpus\n",
    "                             , eta = 0.01 # topics are known to be word-sparse, the Dirichlet parameter of the word distributions is set small (e.g., 0.01), in which case learning is efficient.\n",
    "                             , alpha = 0.1    #believed that each document is associated with few topics\n",
    "                             )\n"
   ]
  },
  {
   "cell_type": "markdown",
   "metadata": {},
   "source": [
    "### (6) Explore topics"
   ]
  },
  {
   "cell_type": "markdown",
   "metadata": {},
   "source": [
    "To inspect the topics, we will look at each topic in terms of the words it has the highest probability to generate"
   ]
  },
  {
   "cell_type": "code",
   "execution_count": 23,
   "metadata": {},
   "outputs": [
    {
     "name": "stdout",
     "output_type": "stream",
     "text": [
      "LDA Model:\n",
      "Topic #0: 0.360*\"service\" + 0.109*\"food\" + 0.077*\"dont\" + 0.070*\"take\" + 0.070*\"burger\"\n",
      "Topic #1: 0.281*\"back\" + 0.215*\"food\" + 0.118*\"never\" + 0.085*\"wont\" + 0.075*\"think\"\n",
      "Topic #2: 0.199*\"nice\" + 0.191*\"friendly\" + 0.140*\"staff\" + 0.132*\"steak\" + 0.103*\"feel\"\n",
      "Topic #3: 0.167*\"restaurant\" + 0.109*\"wait\" + 0.091*\"food\" + 0.080*\"place\" + 0.078*\"know\"\n",
      "Topic #4: 0.238*\"time\" + 0.083*\"price\" + 0.074*\"food\" + 0.065*\"dish\" + 0.061*\"table\"\n",
      "Topic #5: 0.368*\"place\" + 0.080*\"im\" + 0.072*\"experience\" + 0.069*\"star\" + 0.063*\"definitely\"\n",
      "Topic #6: 0.138*\"love\" + 0.106*\"delicious\" + 0.091*\"food\" + 0.074*\"disappointed\" + 0.073*\"eat\"\n",
      "Topic #7: 0.129*\"taste\" + 0.116*\"order\" + 0.116*\"pretty\" + 0.103*\"chicken\" + 0.098*\"salad\"\n",
      "====================\n"
     ]
    }
   ],
   "source": [
    "# (iv) Explore Topics\n",
    "\n",
    "print(\"LDA Model:\")\n",
    " \n",
    "for idx in range(NUM_TOPICS):\n",
    "    # Print the first 5 most representative words for each topic\n",
    "    print(\"Topic #%s:\" % idx, lda_model_1.print_topic(idx, 5))\n",
    " \n",
    "print(\"=\" * 20)\n",
    "\n",
    "# Really hard to understand the topics...\n"
   ]
  },
  {
   "cell_type": "markdown",
   "metadata": {},
   "source": [
    "The python package ```pyLDAvis``` is designed to help the interpretion of the topics in a topic model. The package extracts information from a fitted LDA topic model to inform an interactive web-based visualization (https://datascienceplus.com/topic-modeling-in-python-with-nltk-and-gensim/)."
   ]
  },
  {
   "cell_type": "code",
   "execution_count": 24,
   "metadata": {},
   "outputs": [
    {
     "name": "stderr",
     "output_type": "stream",
     "text": [
      "/home/michaela/anaconda3/lib/python3.7/site-packages/pyLDAvis/_prepare.py:257: FutureWarning: Sorting because non-concatenation axis is not aligned. A future version\n",
      "of pandas will change to not sort by default.\n",
      "\n",
      "To accept the future behavior, pass 'sort=False'.\n",
      "\n",
      "To retain the current behavior and silence the warning, pass 'sort=True'.\n",
      "\n",
      "  return pd.concat([default_term_info] + list(topic_dfs))\n"
     ]
    },
    {
     "data": {
      "text/html": [
       "\n",
       "<link rel=\"stylesheet\" type=\"text/css\" href=\"https://cdn.rawgit.com/bmabey/pyLDAvis/files/ldavis.v1.0.0.css\">\n",
       "\n",
       "\n",
       "<div id=\"ldavis_el121591406028325776644708755049\"></div>\n",
       "<script type=\"text/javascript\">\n",
       "\n",
       "var ldavis_el121591406028325776644708755049_data = {\"mdsDat\": {\"x\": [0.19677763732102163, 0.05649172104341627, 0.2555578697203853, -0.09339364526495605, 0.12114627949734644, -0.3406536768359741, -0.08832624779639199, -0.10759993768484728], \"y\": [0.13385323171932817, 0.14440530196678206, -0.3084745524837109, 0.09991139737085851, 0.1088280952186045, -0.07871362064388654, 0.15199088945736292, -0.2518007426053384], \"topics\": [1, 2, 3, 4, 5, 6, 7, 8], \"cluster\": [1, 1, 1, 1, 1, 1, 1, 1], \"Freq\": [13.841569900512695, 12.55016040802002, 9.386845588684082, 11.19295597076416, 13.929162979125977, 15.178497314453125, 13.244181632995605, 10.676630973815918]}, \"tinfo\": {\"Category\": [\"Default\", \"Default\", \"Default\", \"Default\", \"Default\", \"Default\", \"Default\", \"Default\", \"Default\", \"Default\", \"Default\", \"Default\", \"Default\", \"Default\", \"Default\", \"Default\", \"Default\", \"Default\", \"Default\", \"Default\", \"Default\", \"Default\", \"Default\", \"Default\", \"Default\", \"Default\", \"Default\", \"Default\", \"Default\", \"Default\", \"Topic1\", \"Topic1\", \"Topic1\", \"Topic1\", \"Topic1\", \"Topic1\", \"Topic1\", \"Topic1\", \"Topic1\", \"Topic1\", \"Topic1\", \"Topic1\", \"Topic1\", \"Topic1\", \"Topic1\", \"Topic1\", \"Topic1\", \"Topic1\", \"Topic1\", \"Topic1\", \"Topic1\", \"Topic1\", \"Topic1\", \"Topic1\", \"Topic1\", \"Topic1\", \"Topic1\", \"Topic1\", \"Topic1\", \"Topic1\", \"Topic1\", \"Topic1\", \"Topic1\", \"Topic1\", \"Topic1\", \"Topic1\", \"Topic2\", \"Topic2\", \"Topic2\", \"Topic2\", \"Topic2\", \"Topic2\", \"Topic2\", \"Topic2\", \"Topic2\", \"Topic2\", \"Topic2\", \"Topic2\", \"Topic2\", \"Topic2\", \"Topic2\", \"Topic2\", \"Topic2\", \"Topic2\", \"Topic2\", \"Topic2\", \"Topic2\", \"Topic2\", \"Topic2\", \"Topic2\", \"Topic2\", \"Topic2\", \"Topic2\", \"Topic2\", \"Topic2\", \"Topic2\", \"Topic2\", \"Topic2\", \"Topic2\", \"Topic2\", \"Topic2\", \"Topic2\", \"Topic2\", \"Topic2\", \"Topic2\", \"Topic2\", \"Topic2\", \"Topic2\", \"Topic2\", \"Topic2\", \"Topic2\", \"Topic2\", \"Topic2\", \"Topic3\", \"Topic3\", \"Topic3\", \"Topic3\", \"Topic3\", \"Topic3\", \"Topic3\", \"Topic3\", \"Topic3\", \"Topic3\", \"Topic3\", \"Topic3\", \"Topic3\", \"Topic3\", \"Topic3\", \"Topic3\", \"Topic3\", \"Topic3\", \"Topic3\", \"Topic3\", \"Topic3\", \"Topic3\", \"Topic3\", \"Topic3\", \"Topic3\", \"Topic3\", \"Topic3\", \"Topic3\", \"Topic3\", \"Topic3\", \"Topic3\", \"Topic3\", \"Topic3\", \"Topic3\", \"Topic3\", \"Topic4\", \"Topic4\", \"Topic4\", \"Topic4\", \"Topic4\", \"Topic4\", \"Topic4\", \"Topic4\", \"Topic4\", \"Topic4\", \"Topic4\", \"Topic4\", \"Topic4\", \"Topic4\", \"Topic4\", \"Topic4\", \"Topic4\", \"Topic4\", \"Topic4\", \"Topic4\", \"Topic4\", \"Topic4\", \"Topic4\", \"Topic4\", \"Topic4\", \"Topic4\", \"Topic4\", \"Topic4\", \"Topic4\", \"Topic4\", \"Topic4\", \"Topic4\", \"Topic4\", \"Topic4\", \"Topic4\", \"Topic5\", \"Topic5\", \"Topic5\", \"Topic5\", \"Topic5\", \"Topic5\", \"Topic5\", \"Topic5\", \"Topic5\", \"Topic5\", \"Topic5\", \"Topic5\", \"Topic5\", \"Topic5\", \"Topic5\", \"Topic5\", \"Topic5\", \"Topic5\", \"Topic5\", \"Topic5\", \"Topic5\", \"Topic5\", \"Topic5\", \"Topic5\", \"Topic5\", \"Topic5\", \"Topic5\", \"Topic5\", \"Topic5\", \"Topic5\", \"Topic5\", \"Topic5\", \"Topic5\", \"Topic5\", \"Topic5\", \"Topic5\", \"Topic5\", \"Topic6\", \"Topic6\", \"Topic6\", \"Topic6\", \"Topic6\", \"Topic6\", \"Topic6\", \"Topic6\", \"Topic6\", \"Topic6\", \"Topic6\", \"Topic6\", \"Topic6\", \"Topic6\", \"Topic6\", \"Topic6\", \"Topic6\", \"Topic6\", \"Topic6\", \"Topic6\", \"Topic6\", \"Topic6\", \"Topic6\", \"Topic6\", \"Topic6\", \"Topic6\", \"Topic6\", \"Topic6\", \"Topic6\", \"Topic6\", \"Topic6\", \"Topic6\", \"Topic6\", \"Topic6\", \"Topic6\", \"Topic6\", \"Topic6\", \"Topic7\", \"Topic7\", \"Topic7\", \"Topic7\", \"Topic7\", \"Topic7\", \"Topic7\", \"Topic7\", \"Topic7\", \"Topic7\", \"Topic7\", \"Topic7\", \"Topic7\", \"Topic7\", \"Topic7\", \"Topic7\", \"Topic7\", \"Topic7\", \"Topic7\", \"Topic7\", \"Topic7\", \"Topic7\", \"Topic7\", \"Topic7\", \"Topic7\", \"Topic7\", \"Topic7\", \"Topic7\", \"Topic7\", \"Topic7\", \"Topic7\", \"Topic7\", \"Topic7\", \"Topic7\", \"Topic7\", \"Topic8\", \"Topic8\", \"Topic8\", \"Topic8\", \"Topic8\", \"Topic8\", \"Topic8\", \"Topic8\", \"Topic8\", \"Topic8\", \"Topic8\", \"Topic8\", \"Topic8\", \"Topic8\", \"Topic8\", \"Topic8\", \"Topic8\", \"Topic8\", \"Topic8\", \"Topic8\", \"Topic8\", \"Topic8\", \"Topic8\", \"Topic8\", \"Topic8\", \"Topic8\", \"Topic8\", \"Topic8\", \"Topic8\", \"Topic8\", \"Topic8\", \"Topic8\", \"Topic8\", \"Topic8\", \"Topic8\", \"Topic8\"], \"Freq\": [104.0, 82.0, 57.0, 53.0, 30.0, 28.0, 30.0, 120.0, 29.0, 21.0, 22.0, 23.0, 20.0, 30.0, 22.0, 26.0, 20.0, 17.0, 16.0, 15.0, 19.0, 18.0, 17.0, 29.0, 14.0, 15.0, 16.0, 15.0, 28.0, 14.0, 15.642765998840332, 10.757462501525879, 10.755448341369629, 15.515639305114746, 80.26819610595703, 6.762113571166992, 9.789495468139648, 17.266693115234375, 5.8715972900390625, 5.326816082000732, 5.392277717590332, 2.942816734313965, 6.841262340545654, 24.354921340942383, 1.9646124839782715, 2.051919937133789, 0.21452529728412628, 0.10110194981098175, 0.10967840999364853, 0.060195885598659515, 0.06742031872272491, 0.06633950769901276, 0.027352115139365196, 0.030677324160933495, 0.010642407462000847, 0.011268075555562973, 0.014145826920866966, 0.00977207999676466, 0.00977209024131298, 0.010347199626266956, 0.08989032357931137, 0.014926349744200706, 0.013934779912233353, 0.01209650095552206, 0.0159673523157835, 0.014225230552256107, 23.744731903076172, 17.10616111755371, 56.713096618652344, 13.28283405303955, 15.150862693786621, 7.609384536743164, 9.527124404907227, 9.508393287658691, 43.3933219909668, 1.9682859182357788, 3.107403516769409, 0.14005929231643677, 0.021133091300725937, 0.02464626170694828, 0.018689675256609917, 0.010353085584938526, 0.010143835097551346, 0.00997996050864458, 0.08303126692771912, 0.009502732194960117, 0.009502730332314968, 0.009502739645540714, 0.00997996423393488, 0.009996981360018253, 0.009502783417701721, 0.013218776322901249, 0.009979982860386372, 0.009502742439508438, 0.009502753615379333, 0.009502758271992207, 0.010326159186661243, 0.019409658387303352, 0.01105137076228857, 0.01172975730150938, 0.023878686130046844, 0.011348404921591282, 0.010115956887602806, 0.010740249417722225, 0.011553908698260784, 0.01124629657715559, 0.011504526250064373, 0.01030955370515585, 0.010934635996818542, 0.010457281954586506, 0.010585499927401543, 0.010652989149093628, 0.010464969091117382, 30.030460357666016, 28.90619468688965, 21.12664031982422, 15.577720642089844, 11.13208293914795, 19.90122413635254, 11.020569801330566, 5.879514694213867, 2.4378058910369873, 1.2304326295852661, 1.9526562690734863, 0.22923806309700012, 0.15013855695724487, 0.4845975339412689, 0.04792485758662224, 0.041113778948783875, 0.11400935053825378, 0.02600761130452156, 0.0185454823076725, 0.01658235676586628, 0.021833928301930428, 0.01646851934492588, 0.013256211765110493, 0.026374103501439095, 0.014933283440768719, 0.03701428696513176, 0.019352583214640617, 0.011679469607770443, 0.013001098297536373, 0.011735200881958008, 0.017756888642907143, 0.015848364681005478, 0.02750292979180813, 0.02416125126183033, 0.016455724835395813, 30.153423309326172, 14.010083198547363, 12.931072235107422, 13.99406909942627, 12.872037887573242, 11.598502159118652, 19.553850173950195, 6.347889423370361, 7.499207019805908, 3.241854429244995, 3.2388436794281006, 2.1548078060150146, 2.4618306159973145, 3.244152545928955, 14.411676406860352, 16.45704460144043, 2.166285514831543, 1.088269591331482, 1.198359727859497, 0.4996512234210968, 0.13041351735591888, 0.13693076372146606, 0.0695473849773407, 0.035895343869924545, 0.06735266745090485, 0.011699235066771507, 0.012919050641357899, 0.01162383146584034, 0.010770202614367008, 0.01239276397973299, 0.016338208690285683, 0.017010489478707314, 0.015552914701402187, 0.018676014617085457, 0.01669790782034397, 11.757325172424316, 18.556394577026367, 11.745477676391602, 13.681680679321289, 53.26667022705078, 9.448018074035645, 10.184724807739258, 14.521746635437012, 8.158818244934082, 8.822906494140625, 12.72133731842041, 9.802574157714844, 5.869184494018555, 10.637372970581055, 3.3486318588256836, 4.135810375213623, 16.531959533691406, 0.09751415997743607, 0.2863755226135254, 0.02713017165660858, 0.036064162850379944, 0.019743796437978745, 0.012235801666975021, 0.01152908056974411, 0.009796279482543468, 0.010596432723104954, 0.009796246886253357, 0.009796254336833954, 0.009796247817575932, 0.00979623943567276, 0.014553175307810307, 0.01328854076564312, 0.01803469844162464, 0.01217007264494896, 0.015637975186109543, 0.011871890164911747, 0.011574409902095795, 19.532350540161133, 16.74351692199707, 11.152547836303711, 14.319456100463867, 15.35387134552002, 17.68248176574707, 89.81324768066406, 10.217944145202637, 12.090414047241211, 7.32227087020874, 12.965694427490234, 3.7287168502807617, 3.7306854724884033, 5.553977966308594, 2.480121612548828, 0.3472471833229065, 0.44648221135139465, 0.026139164343476295, 0.030599920079112053, 0.18059910833835602, 0.020625364035367966, 0.01516035757958889, 0.01664598099887371, 0.01331451628357172, 0.010922955349087715, 0.012130328454077244, 0.013346237130463123, 0.009304944425821304, 0.00930488295853138, 0.011071146465837955, 0.00977212842553854, 0.03659762069582939, 0.011090410873293877, 0.013278404250741005, 0.01811906136572361, 0.013213285245001316, 0.012548942118883133, 29.396404266357422, 22.53080177307129, 15.69209098815918, 14.695601463317871, 11.765741348266602, 9.812589645385742, 9.809727668762207, 10.679341316223145, 7.85347318649292, 12.320243835449219, 7.748978137969971, 15.647947311401367, 4.828958034515381, 4.042457103729248, 5.891689300537109, 4.63763952255249, 2.9408135414123535, 1.9741889238357544, 19.31456184387207, 0.608559250831604, 0.19284425675868988, 0.09625021368265152, 0.050188854336738586, 0.077736996114254, 0.028796643018722534, 0.021756598725914955, 0.015202799811959267, 0.010986029170453548, 0.009806488640606403, 0.010299076326191425, 0.01643427461385727, 0.010723527520895004, 0.012856174260377884, 0.01675032451748848, 0.013651380315423012, 22.08977508544922, 16.831298828125, 14.721273422241211, 19.93619728088379, 17.693696975708008, 13.458450317382812, 10.517593383789062, 9.368807792663574, 19.99588966369629, 6.837744235992432, 6.320052146911621, 4.206849098205566, 4.2000908851623535, 2.1161773204803467, 1.1524193286895752, 1.592512607574463, 0.041165824979543686, 0.05456935241818428, 0.018337862566113472, 0.01800638809800148, 0.022310657426714897, 0.012454824522137642, 0.011269139125943184, 0.012623864226043224, 0.011072068475186825, 0.01104664709419012, 0.012205943465232849, 0.010518351569771767, 0.011352677829563618, 0.013498199172317982, 0.018484126776456833, 0.012729063630104065, 0.045451194047927856, 0.026802660897374153, 0.01263155322521925, 0.013514193706214428], \"Term\": [\"place\", \"service\", \"back\", \"time\", \"nice\", \"friendly\", \"restaurant\", \"food\", \"love\", \"staff\", \"taste\", \"never\", \"steak\", \"wait\", \"delicious\", \"order\", \"pretty\", \"chicken\", \"salad\", \"feel\", \"im\", \"price\", \"wont\", \"eat\", \"meal\", \"disappointed\", \"star\", \"take\", \"dont\", \"know\", \"take\", \"slow\", \"enjoy\", \"burger\", \"service\", \"serve\", \"menu\", \"dont\", \"minute\", \"pizza\", \"server\", \"atmosphere\", \"order\", \"food\", \"perfect\", \"quality\", \"recommend\", \"cook\", \"think\", \"selection\", \"vega\", \"price\", \"next\", \"never\", \"excellent\", \"still\", \"thing\", \"find\", \"worth\", \"amazing\", \"place\", \"salad\", \"try\", \"awesome\", \"restaurant\", \"back\", \"never\", \"wont\", \"back\", \"flavor\", \"think\", \"atmosphere\", \"fresh\", \"fry\", \"food\", \"bland\", \"dont\", \"excellent\", \"everything\", \"give\", \"buffet\", \"side\", \"meat\", \"perfect\", \"service\", \"find\", \"worth\", \"serve\", \"slow\", \"still\", \"amazing\", \"way\", \"cook\", \"next\", \"enjoy\", \"tasty\", \"enough\", \"love\", \"didnt\", \"disappointed\", \"place\", \"dish\", \"sushi\", \"feel\", \"delicious\", \"staff\", \"eat\", \"wasnt\", \"friendly\", \"star\", \"taste\", \"restaurant\", \"im\", \"nice\", \"friendly\", \"staff\", \"feel\", \"leave\", \"steak\", \"cook\", \"server\", \"dish\", \"serve\", \"service\", \"cant\", \"dont\", \"food\", \"bland\", \"flavor\", \"time\", \"table\", \"still\", \"side\", \"meal\", \"enough\", \"find\", \"im\", \"fantastic\", \"eat\", \"menu\", \"excellent\", \"enjoy\", \"meat\", \"vega\", \"didnt\", \"love\", \"place\", \"delicious\", \"restaurant\", \"know\", \"awesome\", \"wasnt\", \"selection\", \"cant\", \"wait\", \"amazing\", \"dont\", \"quality\", \"thing\", \"serve\", \"didnt\", \"server\", \"place\", \"food\", \"experience\", \"bland\", \"eat\", \"vega\", \"still\", \"burger\", \"pretty\", \"sushi\", \"time\", \"find\", \"tasty\", \"side\", \"excellent\", \"night\", \"give\", \"star\", \"wont\", \"friendly\", \"back\", \"fantastic\", \"price\", \"buffet\", \"table\", \"time\", \"worth\", \"tasty\", \"dish\", \"next\", \"amaze\", \"minute\", \"try\", \"menu\", \"wait\", \"everything\", \"server\", \"food\", \"vega\", \"back\", \"quality\", \"delicious\", \"wasnt\", \"serve\", \"night\", \"excellent\", \"amazing\", \"find\", \"perfect\", \"meat\", \"side\", \"give\", \"recommend\", \"staff\", \"selection\", \"friendly\", \"disappointed\", \"wont\", \"im\", \"star\", \"night\", \"vega\", \"definitely\", \"experience\", \"place\", \"sushi\", \"give\", \"excellent\", \"eat\", \"find\", \"amaze\", \"think\", \"next\", \"worth\", \"time\", \"way\", \"minute\", \"food\", \"burger\", \"enough\", \"thing\", \"cook\", \"meat\", \"cant\", \"flavor\", \"perfect\", \"side\", \"fantastic\", \"amazing\", \"back\", \"bland\", \"taste\", \"service\", \"order\", \"wait\", \"love\", \"delicious\", \"disappointed\", \"way\", \"enough\", \"meat\", \"side\", \"still\", \"perfect\", \"pizza\", \"quality\", \"eat\", \"find\", \"amazing\", \"try\", \"didnt\", \"give\", \"sushi\", \"food\", \"tasty\", \"chicken\", \"everything\", \"cant\", \"steak\", \"night\", \"fry\", \"bland\", \"worth\", \"excellent\", \"serve\", \"star\", \"enjoy\", \"definitely\", \"back\", \"place\", \"taste\", \"salad\", \"meal\", \"pretty\", \"chicken\", \"recommend\", \"thing\", \"bland\", \"order\", \"everything\", \"didnt\", \"fry\", \"fresh\", \"excellent\", \"find\", \"definitely\", \"table\", \"steak\", \"next\", \"buffet\", \"vega\", \"amazing\", \"meat\", \"cook\", \"perfect\", \"worth\", \"night\", \"side\", \"tasty\", \"selection\", \"price\", \"amaze\", \"service\", \"time\", \"im\", \"place\"], \"Total\": [104.0, 82.0, 57.0, 53.0, 30.0, 28.0, 30.0, 120.0, 29.0, 21.0, 22.0, 23.0, 20.0, 30.0, 22.0, 26.0, 20.0, 17.0, 16.0, 15.0, 19.0, 18.0, 17.0, 29.0, 14.0, 15.0, 16.0, 15.0, 28.0, 14.0, 15.715932846069336, 10.829835891723633, 10.830073356628418, 15.726996421813965, 82.40126037597656, 10.199214935302734, 15.731325149536133, 28.06527328491211, 18.678041458129883, 17.713815689086914, 18.691892623901367, 10.614523887634277, 26.90620994567871, 120.72816467285156, 9.880130767822266, 13.110806465148926, 13.738513946533203, 11.187962532043457, 20.871763229370117, 12.999112129211426, 15.044478416442871, 18.693758010864258, 10.726461410522461, 23.838027954101562, 9.631202697753906, 10.87918472290039, 13.828573226928711, 9.764121055603027, 9.85902214050293, 10.454141616821289, 104.39981079101562, 16.90934181213379, 15.760618209838867, 13.004429817199707, 30.235580444335938, 57.10538101196289, 23.838027954101562, 17.186098098754883, 57.10538101196289, 13.388632774353027, 20.871763229370117, 10.614523887634277, 13.788908004760742, 13.790037155151367, 120.72816467285156, 12.51972770690918, 28.06527328491211, 9.631202697753906, 10.34528636932373, 15.1198148727417, 11.836585998535156, 9.887678146362305, 9.88700008392334, 9.880130767822266, 82.40126037597656, 9.764121055603027, 9.85902214050293, 10.199214935302734, 10.829835891723633, 10.87918472290039, 10.454141616821289, 14.78930377960205, 11.187962532043457, 10.726461410522461, 10.830073356628418, 10.857256889343262, 11.848552703857422, 29.501651763916016, 13.475763320922852, 15.770926475524902, 104.39981079101562, 17.02313232421875, 12.280848503112793, 15.649639129638672, 22.635873794555664, 21.20880699157715, 29.891281127929688, 14.080348014831543, 28.993467330932617, 16.830671310424805, 22.168222427368164, 30.235580444335938, 19.623579025268555, 30.10677146911621, 28.993467330932617, 21.20880699157715, 15.649639129638672, 11.201553344726562, 20.086261749267578, 11.187962532043457, 18.691892623901367, 17.02313232421875, 10.199214935302734, 82.40126037597656, 11.930139541625977, 28.06527328491211, 120.72816467285156, 12.51972770690918, 13.388632774353027, 53.95491409301758, 13.799093246459961, 10.87918472290039, 9.887678146362305, 14.806390762329102, 11.848552703857422, 9.764121055603027, 19.623579025268555, 11.836441993713379, 29.891281127929688, 15.731325149536133, 9.631202697753906, 10.830073356628418, 9.88700008392334, 15.044478416442871, 13.475763320922852, 29.501651763916016, 104.39981079101562, 22.635873794555664, 30.235580444335938, 14.081549644470215, 13.004429817199707, 14.080348014831543, 12.999112129211426, 11.930139541625977, 30.256654739379883, 10.454141616821289, 28.06527328491211, 13.110806465148926, 13.828573226928711, 10.199214935302734, 13.475763320922852, 18.691892623901367, 104.39981079101562, 120.72816467285156, 19.914304733276367, 12.51972770690918, 29.891281127929688, 15.044478416442871, 10.87918472290039, 15.726996421813965, 20.06658363342285, 12.280848503112793, 53.95491409301758, 9.764121055603027, 10.857256889343262, 9.887678146362305, 9.631202697753906, 11.247867584228516, 15.1198148727417, 16.830671310424805, 17.186098098754883, 28.993467330932617, 57.10538101196289, 11.836441993713379, 18.693758010864258, 11.836585998535156, 13.799093246459961, 53.95491409301758, 9.85902214050293, 10.857256889343262, 17.02313232421875, 10.726461410522461, 12.619410514831543, 18.678041458129883, 15.760618209838867, 15.731325149536133, 30.256654739379883, 10.34528636932373, 18.691892623901367, 120.72816467285156, 15.044478416442871, 57.10538101196289, 13.110806465148926, 22.635873794555664, 14.080348014831543, 10.199214935302734, 11.247867584228516, 9.631202697753906, 10.454141616821289, 9.764121055603027, 9.880130767822266, 9.88700008392334, 9.887678146362305, 15.1198148727417, 13.738513946533203, 21.20880699157715, 12.999112129211426, 28.993467330932617, 15.770926475524902, 17.186098098754883, 19.623579025268555, 16.830671310424805, 11.247867584228516, 15.044478416442871, 17.01209831237793, 19.914304733276367, 104.39981079101562, 12.280848503112793, 15.1198148727417, 9.631202697753906, 29.891281127929688, 9.764121055603027, 12.619410514831543, 20.871763229370117, 10.726461410522461, 9.85902214050293, 53.95491409301758, 14.78930377960205, 18.678041458129883, 120.72816467285156, 15.726996421813965, 11.848552703857422, 13.828573226928711, 11.187962532043457, 9.88700008392334, 11.930139541625977, 13.388632774353027, 9.880130767822266, 9.887678146362305, 11.836441993713379, 10.454141616821289, 57.10538101196289, 12.51972770690918, 22.168222427368164, 82.40126037597656, 26.90620994567871, 30.256654739379883, 29.501651763916016, 22.635873794555664, 15.770926475524902, 14.78930377960205, 11.848552703857422, 9.88700008392334, 9.887678146362305, 10.87918472290039, 9.880130767822266, 17.713815689086914, 13.110806465148926, 29.891281127929688, 9.764121055603027, 10.454141616821289, 15.760618209838867, 13.475763320922852, 15.1198148727417, 12.280848503112793, 120.72816467285156, 10.857256889343262, 17.94834327697754, 10.34528636932373, 11.930139541625977, 20.086261749267578, 11.247867584228516, 13.790037155151367, 12.51972770690918, 9.85902214050293, 9.631202697753906, 10.199214935302734, 16.830671310424805, 10.830073356628418, 17.01209831237793, 57.10538101196289, 104.39981079101562, 22.168222427368164, 16.90934181213379, 14.806390762329102, 20.06658363342285, 17.94834327697754, 13.738513946533203, 13.828573226928711, 12.51972770690918, 26.90620994567871, 10.34528636932373, 13.475763320922852, 13.790037155151367, 13.788908004760742, 9.631202697753906, 9.764121055603027, 17.01209831237793, 13.799093246459961, 20.086261749267578, 10.726461410522461, 11.836585998535156, 15.044478416442871, 10.454141616821289, 9.88700008392334, 11.187962532043457, 9.880130767822266, 9.85902214050293, 11.247867584228516, 9.887678146362305, 10.857256889343262, 12.999112129211426, 18.693758010864258, 12.619410514831543, 82.40126037597656, 53.95491409301758, 19.623579025268555, 104.39981079101562], \"loglift\": [30.0, 29.0, 28.0, 27.0, 26.0, 25.0, 24.0, 23.0, 22.0, 21.0, 20.0, 19.0, 18.0, 17.0, 16.0, 15.0, 14.0, 13.0, 12.0, 11.0, 10.0, 9.0, 8.0, 7.0, 6.0, 5.0, 4.0, 3.0, 2.0, 1.0, 1.9728000164031982, 1.9708000421524048, 1.9706000089645386, 1.9639999866485596, 1.951300024986267, 1.566499948501587, 1.5032000541687012, 1.4917000532150269, 0.8202999830245972, 0.7759000062942505, 0.7343999743461609, 0.694599986076355, 0.6080999970436096, 0.3767000138759613, 0.36230000853538513, 0.12280000001192093, -2.181999921798706, -2.7290000915527344, -3.2711000442504883, -3.3975000381469727, -3.430299997329712, -3.6637001037597656, -3.9941999912261963, -4.677999973297119, -4.830399990081787, -4.895100116729736, -4.907599925994873, -4.9293999671936035, -4.9390997886657715, -4.940499782562256, -5.079899787902832, -5.054999828338623, -5.053400039672852, -5.002600193023682, -5.568699836730957, -6.320099830627441, 2.071500062942505, 2.0708000659942627, 2.06850004196167, 2.067500114440918, 1.7551000118255615, 1.7425999641418457, 1.7057000398635864, 1.7036999464035034, 1.0521999597549438, 0.22529999911785126, -0.12530000507831573, -2.1552999019622803, -4.118000030517578, -4.343699932098389, -4.375500202178955, -4.786300182342529, -4.806700229644775, -4.822299957275391, -4.824699878692627, -4.859499931335449, -4.869100093841553, -4.9029998779296875, -4.914000034332275, -4.916900157928467, -4.927700042724609, -4.9446001052856445, -4.946599960327148, -4.953499794006348, -4.963099956512451, -4.96560001373291, -4.969799995422363, -5.250999927520752, -5.030700206756592, -5.128399848937988, -6.307600021362305, -5.237800121307373, -5.026199817657471, -5.208799839019775, -5.504799842834473, -5.466700077056885, -5.787099838256836, -5.144000053405762, -5.807499885559082, -5.308199882507324, -5.571499824523926, -5.875500202178955, -5.460999965667725, 2.363300085067749, 2.362799882888794, 2.361999988555908, 2.361299991607666, 2.359600067138672, 2.356600046157837, 2.350800037384033, 1.2092000246047974, 0.42239999771118164, 0.250900000333786, -1.3765000104904175, -1.5861999988555908, -2.8649001121520996, -3.152100086212158, -3.1995999813079834, -3.4200000762939453, -3.793800115585327, -3.908099889755249, -4.008500099182129, -4.024799823760986, -4.153500080108643, -4.212600231170654, -4.236100196838379, -4.246200084686279, -4.309500217437744, -4.328199863433838, -4.334700107574463, -4.349100112915039, -4.3592000007629395, -4.370500087738037, -4.376100063323975, -4.379700183868408, -4.611999988555908, -6.00540018081665, -4.860799789428711, 2.1872000694274902, 2.184799909591675, 2.1842000484466553, 2.1837000846862793, 2.1800999641418457, 2.1617000102996826, 1.7532999515533447, 1.690999984741211, 0.870199978351593, 0.7925999760627747, 0.7383999824523926, 0.6352999806404114, 0.48989999294281006, 0.43860000371932983, 0.20970000326633453, 0.19709999859333038, -0.02850000001490116, -0.25279998779296875, -1.0267000198364258, -1.215000033378601, -2.2339999675750732, -2.553800106048584, -3.474900007247925, -3.6452999114990234, -4.496099948883057, -4.537099838256836, -4.544000148773193, -4.556099891662598, -4.606100082397461, -4.6209001541137695, -4.640399932861328, -4.707200050354004, -4.817699909210205, -5.157700061798096, -5.947500228881836, 1.9644999504089355, 1.9637999534606934, 1.9635000228881836, 1.9625999927520752, 1.958299994468689, 1.9285999536514282, 1.9071999788284302, 1.8122999668121338, 1.69760000705719, 1.6132999658584595, 1.5871000289916992, 1.4962999820709229, 0.9851999878883362, 0.9258000254631042, 0.8432000279426575, 0.462799996137619, -0.017100000753998756, -3.0676000118255615, -3.324199914932251, -4.209400177001953, -4.470799922943115, -4.598499774932861, -4.754499912261963, -4.911900043487549, -4.919600009918213, -4.923099994659424, -4.933300018310547, -4.945099830627441, -4.945799827575684, -4.945899963378906, -4.974800109863281, -4.969900131225586, -5.098700046539307, -5.002500057220459, -5.553899765014648, -5.220600128173828, -5.331900119781494, 1.8805999755859375, 1.8801000118255615, 1.8767999410629272, 1.8358999490737915, 1.7826999425888062, 1.7663999795913696, 1.7347999811172485, 1.7014000415802002, 1.6617000102996826, 1.611199975013733, 1.0499999523162842, 0.9225999712944031, 0.6665999889373779, 0.5613999962806702, 0.42089998722076416, -1.460800051689148, -2.9091999530792236, -4.452899932861328, -4.528800010681152, -4.619699954986572, -4.751299858093262, -4.776000022888184, -4.836999893188477, -4.848400115966797, -4.922800064086914, -5.005799770355225, -5.025599956512451, -5.082399845123291, -5.083199977874756, -5.089300155639648, -5.089900016784668, -5.467400074005127, -5.143700122833252, -5.534999847412109, -6.537099838256836, -5.73360013961792, -5.902500152587891, 2.0179998874664307, 2.0169999599456787, 2.0165998935699463, 2.0153000354766846, 2.0146000385284424, 2.0141000747680664, 2.013700008392334, 2.0030999183654785, 1.7920000553131104, 1.6584999561309814, 1.4957000017166138, 1.374400019645691, 1.3174999952316284, 1.0714999437332153, 1.037600040435791, 0.9549000263214111, 0.38429999351501465, 0.19370000064373016, 0.18889999389648438, -0.8598999977111816, -2.5118000507354736, -2.6556999683380127, -3.449399948120117, -3.5327999591827393, -3.9460999965667725, -4.430200099945068, -4.691999912261963, -4.777900218963623, -4.868100166320801, -4.876399993896484, -4.909999847412109, -4.895999908447266, -5.166200160980225, -6.112599849700928, -6.920499801635742, 2.233599901199341, 2.2325000762939453, 2.231300115585327, 2.230600118637085, 2.2228000164031982, 2.2165000438690186, 1.9634000062942505, 1.9471999406814575, 1.9402999877929688, 1.8229999542236328, 1.4799000024795532, 1.0499000549316406, 1.0484000444412231, 0.7217000126838684, 0.10029999911785126, -0.1315000057220459, -3.5776000022888184, -3.6712000370025635, -4.134399890899658, -4.251100063323975, -4.276599884033203, -4.495500087738037, -4.53980016708374, -4.549900054931641, -4.556700229644775, -4.5569000244140625, -4.588900089263916, -4.608799934387207, -4.625999927520752, -4.632999897003174, -4.6819000244140625, -4.6620001792907715, -5.265600204467773, -5.370299816131592, -5.111199855804443, -6.715099811553955], \"logprob\": [30.0, 29.0, 28.0, 27.0, 26.0, 25.0, 24.0, 23.0, 22.0, 21.0, 20.0, 19.0, 18.0, 17.0, 16.0, 15.0, 14.0, 13.0, 12.0, 11.0, 10.0, 9.0, 8.0, 7.0, 6.0, 5.0, 4.0, 3.0, 2.0, 1.0, -2.6565001010894775, -3.030900001525879, -3.031100034713745, -2.664599895477295, -1.0211000442504883, -3.4951999187469482, -3.125200033187866, -2.5576999187469482, -3.636399984359741, -3.7337000370025635, -3.7214999198913574, -4.327099800109863, -3.4835000038146973, -2.2137999534606934, -4.731200218200684, -4.687699794769287, -6.945799827575684, -7.6981000900268555, -7.616700172424316, -8.21660041809082, -8.103300094604492, -8.119500160217285, -9.005499839782715, -8.890700340270996, -9.949399948120117, -9.89229965209961, -9.664799690246582, -10.034700393676758, -10.034700393676758, -9.977499961853027, -7.815700054168701, -9.611100196838379, -9.679900169372559, -9.82129955291748, -9.543700218200684, -9.659199714660645, -2.141200065612793, -2.469099998474121, -1.2704999446868896, -2.722100019454956, -2.5905001163482666, -3.2792000770568848, -3.0543999671936035, -3.0564000606536865, -1.5382000207901, -4.631400108337402, -4.174799919128418, -7.274199962615967, -9.165499687194824, -9.011699676513672, -9.288299560546875, -9.878999710083008, -9.899399757385254, -9.91569995880127, -7.797100067138672, -9.964699745178223, -9.964699745178223, -9.964699745178223, -9.91569995880127, -9.913999557495117, -9.964699745178223, -9.634699821472168, -9.91569995880127, -9.964699745178223, -9.964699745178223, -9.964699745178223, -9.881600379943848, -9.250499725341797, -9.813799858093262, -9.754199981689453, -9.043299674987793, -9.787199974060059, -9.902199745178223, -9.842300415039062, -9.76930046081543, -9.796299934387207, -9.773599624633789, -9.883199691772461, -9.824399948120117, -9.869000434875488, -9.856800079345703, -9.850500106811523, -9.868300437927246, -1.6159000396728516, -1.654099941253662, -1.9675999879837036, -2.2723000049591064, -2.608299970626831, -2.0272998809814453, -2.6184000968933105, -3.2467000484466553, -4.126999855041504, -4.810800075531006, -4.348899841308594, -6.491099834442139, -6.914299964904785, -5.742599964141846, -8.056300163269043, -8.209500312805176, -7.189599990844727, -8.667499542236328, -9.00570011138916, -9.117500305175781, -8.842399597167969, -9.12440013885498, -9.341400146484375, -8.653499603271484, -9.222299575805664, -8.314599990844727, -8.96310043334961, -9.468099594116211, -9.360899925231934, -9.463299751281738, -9.049099922180176, -9.162799835205078, -8.611599922180176, -8.741100311279297, -9.125200271606445, -1.7877999544143677, -2.55430006980896, -2.634500026702881, -2.555500030517578, -2.6389999389648438, -2.7432000637054443, -2.220900058746338, -3.3459999561309814, -3.17930006980896, -4.01800012588501, -4.018899917602539, -4.426400184631348, -4.2932000160217285, -4.017300128936768, -2.526099920272827, -2.393399953842163, -4.42110013961792, -5.109499931335449, -5.013199806213379, -5.888000011444092, -7.231200218200684, -7.182400226593018, -7.859899997711182, -8.521300315856934, -7.891900062561035, -9.64229965209961, -9.54319953918457, -9.648799896240234, -9.725099563598633, -9.584699630737305, -9.30840015411377, -9.267999649047852, -9.357600212097168, -9.174599647521973, -9.286600112915039, -2.9482998847961426, -2.492000102996826, -2.9493000507354736, -2.7967000007629395, -1.4375, -3.1670000553131104, -3.091900110244751, -2.7372000217437744, -3.313699960708618, -3.2355000972747803, -2.869499921798706, -3.130199909210205, -3.6431000232696533, -3.0483999252319336, -4.2042999267578125, -3.9930999279022217, -2.6075000762939453, -7.740600109100342, -6.663300037384033, -9.01990032196045, -8.735300064086914, -9.337699890136719, -9.816200256347656, -9.875699996948242, -10.038599967956543, -9.960000038146973, -10.038599967956543, -10.038599967956543, -10.038599967956543, -10.038599967956543, -9.642800331115723, -9.733699798583984, -9.428299903869629, -9.821599960327148, -9.570899963378906, -9.846400260925293, -9.871800422668457, -2.526599884033203, -2.6807000637054443, -3.0869998931884766, -2.837100028991699, -2.7672998905181885, -2.6261000633239746, -1.0010000467300415, -3.1745998859405518, -3.0062999725341797, -3.5078001022338867, -2.9363999366760254, -4.182600021362305, -4.18209981918335, -3.7841999530792236, -4.590400218963623, -6.556399822235107, -6.305099964141846, -9.142999649047852, -8.98550033569336, -7.21019983291626, -9.379899978637695, -9.687800407409668, -9.594300270080566, -9.81760025024414, -10.015600204467773, -9.910699844360352, -9.815199851989746, -10.17590045928955, -10.17590045928955, -10.002099990844727, -10.126899719238281, -8.806500434875488, -10.000399589538574, -9.820300102233887, -9.509499549865723, -9.825200080871582, -9.876799583435059, -1.9815000295639038, -2.247499942779541, -2.6092000007629395, -2.674799919128418, -2.897200107574463, -3.078700065612793, -3.0789999961853027, -2.9941000938415527, -3.3013999462127686, -2.851099967956543, -3.3148000240325928, -2.611999988555908, -3.7876999378204346, -3.9655001163482666, -3.5887999534606934, -3.828200101852417, -4.283699989318848, -4.682199954986572, -2.4014999866485596, -5.859000205993652, -7.008299827575684, -7.703199863433838, -8.354299545288086, -7.916800022125244, -8.909899711608887, -9.190199851989746, -9.548700332641602, -9.873499870300293, -9.987099647521973, -9.93809986114502, -9.470800399780273, -9.897700309753418, -9.716300010681152, -9.451700210571289, -9.656299591064453, -2.051800012588501, -2.3236000537872314, -2.4576001167297363, -2.1542999744415283, -2.273699998855591, -2.547300100326538, -2.793800115585327, -2.9094998836517334, -2.151400089263916, -3.224400043487549, -3.3032000064849854, -3.710200071334839, -3.7118000984191895, -4.397299766540527, -5.005000114440918, -4.681600093841553, -8.336999893188477, -8.05519962310791, -9.145700454711914, -9.163900375366211, -8.949600219726562, -9.532500267028809, -9.632599830627441, -9.519000053405762, -9.650199890136719, -9.65250015258789, -9.55270004272461, -9.701499938964844, -9.625200271606445, -9.452099800109863, -9.137700080871582, -9.510700225830078, -8.23799991607666, -8.76609992980957, -9.518400192260742, -9.450900077819824]}, \"token.table\": {\"Topic\": [5, 6, 4, 7, 1, 2, 4, 2, 2, 4, 8, 5, 1, 4, 8, 3, 6, 8, 7, 4, 7, 8, 7, 3, 5, 1, 2, 4, 4, 6, 7, 1, 7, 5, 8, 6, 8, 4, 6, 5, 3, 6, 7, 8, 2, 1, 2, 4, 5, 7, 2, 8, 3, 2, 8, 6, 7, 6, 4, 3, 7, 8, 7, 1, 5, 1, 5, 2, 5, 6, 3, 6, 1, 8, 1, 7, 1, 7, 4, 6, 8, 5, 1, 4, 7, 8, 4, 8, 4, 1, 3, 4, 1, 3, 4, 5, 1, 3, 7, 1, 3, 6, 3, 7, 6, 7, 5, 1, 8, 5, 7, 4, 8, 2, 6, 5, 5, 7, 6, 4, 5, 4, 7, 2, 5], \"Freq\": [0.713187038898468, 0.316972017288208, 0.5739352107048035, 0.38262346386909485, 0.28263160586357117, 0.7536842823028564, 0.9996593594551086, 0.9981546401977539, 0.1597478836774826, 0.0798739418387413, 0.7188654541969299, 1.013805866241455, 1.0173588991165161, 1.0058557987213135, 1.0028780698776245, 0.9831995964050293, 0.8817254304885864, 0.117563396692276, 1.016086220741272, 0.14841459691524506, 0.37103649973869324, 0.44524380564689636, 1.014525055885315, 0.11748719215393066, 0.88115394115448, 0.6057307720184326, 0.10689366608858109, 0.24941855669021606, 0.033454570919275284, 0.4349094331264496, 0.5352731347084045, 1.0156902074813843, 1.0127819776535034, 0.28998714685440063, 0.6766366362571716, 0.7268043756484985, 0.20765838027000427, 0.10043031722307205, 0.9038729071617126, 1.0138181447982788, 1.0223877429962158, 0.4096630811691284, 0.5120788812637329, 0.1024157702922821, 0.9709729552268982, 0.1987937092781067, 0.3561720550060272, 0.1325291395187378, 0.1408122181892395, 0.15737836062908173, 0.7252205610275269, 0.2900882363319397, 1.000225305557251, 0.7251611948013306, 0.2900644838809967, 0.7936605215072632, 0.1984151303768158, 1.0191820859909058, 0.9942087531089783, 0.9820066690444946, 0.9829958081245422, 1.0130760669708252, 1.0114291906356812, 0.6356743574142456, 0.3814046084880829, 0.3212328255176544, 0.6960044503211975, 1.0067946910858154, 0.745819091796875, 0.18645477294921875, 0.996453583240509, 0.9779631495475769, 0.26016297936439514, 0.7433228492736816, 0.2024264633655548, 0.8097058534622192, 0.2822655439376831, 0.6774373054504395, 0.13409985601902008, 0.8620705008506775, 0.9966818690299988, 1.016382098197937, 0.15254591405391693, 0.228818878531456, 0.6101836562156677, 0.946245014667511, 0.9922084808349609, 1.0053614377975464, 1.0000683069229126, 0.686327338218689, 0.09804676473140717, 0.19609352946281433, 0.26749566197395325, 0.3209947943687439, 0.16049739718437195, 0.2139965146780014, 0.9708589315414429, 0.024271473288536072, 1.0113598108291626, 1.0157124996185303, 0.9901546835899353, 1.0100606679916382, 0.9957054257392883, 1.0111051797866821, 0.8142759799957275, 0.16285519301891327, 1.0145593881607056, 1.0180751085281372, 0.9924115538597107, 0.9210429787635803, 0.09210429340600967, 0.21694211661815643, 0.7954544425010681, 0.7186743021011353, 0.2874697148799896, 0.982301652431488, 0.6344928741455078, 0.38069573044776917, 0.9305739402770996, 0.6610116362571716, 0.3635563850402832, 0.9942936301231384, 1.0142465829849243, 0.98917156457901, 0.9128694534301758], \"Term\": [\"amaze\", \"amaze\", \"amazing\", \"amazing\", \"atmosphere\", \"atmosphere\", \"awesome\", \"back\", \"bland\", \"bland\", \"bland\", \"buffet\", \"burger\", \"cant\", \"chicken\", \"cook\", \"definitely\", \"definitely\", \"delicious\", \"didnt\", \"didnt\", \"didnt\", \"disappointed\", \"dish\", \"dish\", \"dont\", \"dont\", \"dont\", \"eat\", \"eat\", \"eat\", \"enjoy\", \"enough\", \"everything\", \"everything\", \"excellent\", \"excellent\", \"experience\", \"experience\", \"fantastic\", \"feel\", \"find\", \"find\", \"find\", \"flavor\", \"food\", \"food\", \"food\", \"food\", \"food\", \"fresh\", \"fresh\", \"friendly\", \"fry\", \"fry\", \"give\", \"give\", \"im\", \"know\", \"leave\", \"love\", \"meal\", \"meat\", \"menu\", \"menu\", \"minute\", \"minute\", \"never\", \"next\", \"next\", \"nice\", \"night\", \"order\", \"order\", \"perfect\", \"perfect\", \"pizza\", \"pizza\", \"place\", \"place\", \"pretty\", \"price\", \"quality\", \"quality\", \"quality\", \"recommend\", \"restaurant\", \"salad\", \"selection\", \"serve\", \"serve\", \"serve\", \"server\", \"server\", \"server\", \"server\", \"service\", \"service\", \"side\", \"slow\", \"staff\", \"star\", \"steak\", \"still\", \"sushi\", \"sushi\", \"table\", \"take\", \"taste\", \"tasty\", \"tasty\", \"thing\", \"thing\", \"think\", \"think\", \"time\", \"try\", \"try\", \"vega\", \"wait\", \"wait\", \"wasnt\", \"way\", \"wont\", \"worth\"]}, \"R\": 30, \"lambda.step\": 0.01, \"plot.opts\": {\"xlab\": \"PC1\", \"ylab\": \"PC2\"}, \"topic.order\": [1, 2, 3, 4, 5, 6, 7, 8]};\n",
       "\n",
       "function LDAvis_load_lib(url, callback){\n",
       "  var s = document.createElement('script');\n",
       "  s.src = url;\n",
       "  s.async = true;\n",
       "  s.onreadystatechange = s.onload = callback;\n",
       "  s.onerror = function(){console.warn(\"failed to load library \" + url);};\n",
       "  document.getElementsByTagName(\"head\")[0].appendChild(s);\n",
       "}\n",
       "\n",
       "if(typeof(LDAvis) !== \"undefined\"){\n",
       "   // already loaded: just create the visualization\n",
       "   !function(LDAvis){\n",
       "       new LDAvis(\"#\" + \"ldavis_el121591406028325776644708755049\", ldavis_el121591406028325776644708755049_data);\n",
       "   }(LDAvis);\n",
       "}else if(typeof define === \"function\" && define.amd){\n",
       "   // require.js is available: use it to load d3/LDAvis\n",
       "   require.config({paths: {d3: \"https://cdnjs.cloudflare.com/ajax/libs/d3/3.5.5/d3.min\"}});\n",
       "   require([\"d3\"], function(d3){\n",
       "      window.d3 = d3;\n",
       "      LDAvis_load_lib(\"https://cdn.rawgit.com/bmabey/pyLDAvis/files/ldavis.v1.0.0.js\", function(){\n",
       "        new LDAvis(\"#\" + \"ldavis_el121591406028325776644708755049\", ldavis_el121591406028325776644708755049_data);\n",
       "      });\n",
       "    });\n",
       "}else{\n",
       "    // require.js not available: dynamically load d3 & LDAvis\n",
       "    LDAvis_load_lib(\"https://cdnjs.cloudflare.com/ajax/libs/d3/3.5.5/d3.min.js\", function(){\n",
       "         LDAvis_load_lib(\"https://cdn.rawgit.com/bmabey/pyLDAvis/files/ldavis.v1.0.0.js\", function(){\n",
       "                 new LDAvis(\"#\" + \"ldavis_el121591406028325776644708755049\", ldavis_el121591406028325776644708755049_data);\n",
       "            })\n",
       "         });\n",
       "}\n",
       "</script>"
      ],
      "text/plain": [
       "<IPython.core.display.HTML object>"
      ]
     },
     "execution_count": 24,
     "metadata": {},
     "output_type": "execute_result"
    }
   ],
   "source": [
    "import pyLDAvis.gensim\n",
    "\n",
    "lda_display = pyLDAvis.gensim.prepare(lda_model_1, bow_corpus, dictionary, sort_topics=False)\n",
    "pyLDAvis.display(lda_display)"
   ]
  },
  {
   "cell_type": "markdown",
   "metadata": {},
   "source": [
    "**Saliency**: a measure of how much the term tells you about the topic.\n",
    "\n",
    "**Relevance**: a weighted average of the probability of the word given the topic and the word given the topic normalized by the probability of the topic.\n",
    "\n",
    "The **size** of the bubble measures the importance of the topics, relative to the data."
   ]
  },
  {
   "cell_type": "code",
   "execution_count": 25,
   "metadata": {},
   "outputs": [],
   "source": [
    "?remove_stopwords"
   ]
  },
  {
   "cell_type": "markdown",
   "metadata": {
    "collapsed": true
   },
   "source": [
    "### (7) Test on new text data"
   ]
  },
  {
   "cell_type": "code",
   "execution_count": 26,
   "metadata": {},
   "outputs": [
    {
     "data": {
      "text/plain": [
       "[(0, 0.017242866),\n",
       " (1, 0.33501568),\n",
       " (2, 0.18987677),\n",
       " (3, 0.017242607),\n",
       " (4, 0.21618977),\n",
       " (5, 0.18994752),\n",
       " (6, 0.017242605),\n",
       " (7, 0.017242204)]"
      ]
     },
     "execution_count": 26,
     "metadata": {},
     "output_type": "execute_result"
    }
   ],
   "source": [
    "# let's try on a new (invented) text\n",
    "text_test = ['time', 'waste', 'food', 'staff', 'back', 'definitely']\n",
    "text_test_bow = dictionary.doc2bow(text_test)\n",
    "\n",
    "lda_model_1.get_document_topics(bow = text_test_bow)\n",
    "list(lda_model_1[text_test_bow])\n"
   ]
  },
  {
   "cell_type": "markdown",
   "metadata": {},
   "source": [
    "## Create dataframe of topic probabilities "
   ]
  },
  {
   "cell_type": "markdown",
   "metadata": {},
   "source": [
    "Here we will use ```topicmod.lda_dtm2df``` to create a dataframe in which:\n",
    "- each row represents a document/text\n",
    "- has one column for each topic containing the probability of that topic for each document"
   ]
  },
  {
   "cell_type": "code",
   "execution_count": 27,
   "metadata": {},
   "outputs": [],
   "source": [
    "DTM_df = lda_dtm2df(lda_model_1[bow_corpus], 8)"
   ]
  },
  {
   "cell_type": "code",
   "execution_count": 28,
   "metadata": {},
   "outputs": [
    {
     "data": {
      "text/html": [
       "<div>\n",
       "<style scoped>\n",
       "    .dataframe tbody tr th:only-of-type {\n",
       "        vertical-align: middle;\n",
       "    }\n",
       "\n",
       "    .dataframe tbody tr th {\n",
       "        vertical-align: top;\n",
       "    }\n",
       "\n",
       "    .dataframe thead th {\n",
       "        text-align: right;\n",
       "    }\n",
       "</style>\n",
       "<table border=\"1\" class=\"dataframe\">\n",
       "  <thead>\n",
       "    <tr style=\"text-align: right;\">\n",
       "      <th></th>\n",
       "      <th>t0_lda</th>\n",
       "      <th>t1_lda</th>\n",
       "      <th>t2_lda</th>\n",
       "      <th>t3_lda</th>\n",
       "      <th>t4_lda</th>\n",
       "      <th>t5_lda</th>\n",
       "      <th>t6_lda</th>\n",
       "      <th>t7_lda</th>\n",
       "    </tr>\n",
       "  </thead>\n",
       "  <tbody>\n",
       "    <tr>\n",
       "      <th>0</th>\n",
       "      <td>0.035719</td>\n",
       "      <td>0.392852</td>\n",
       "      <td>0.035714</td>\n",
       "      <td>0.392857</td>\n",
       "      <td>0.035714</td>\n",
       "      <td>0.035714</td>\n",
       "      <td>0.035714</td>\n",
       "      <td>0.035714</td>\n",
       "    </tr>\n",
       "    <tr>\n",
       "      <th>1</th>\n",
       "      <td>0.055556</td>\n",
       "      <td>0.055556</td>\n",
       "      <td>0.055556</td>\n",
       "      <td>0.055561</td>\n",
       "      <td>0.055556</td>\n",
       "      <td>0.611106</td>\n",
       "      <td>0.055556</td>\n",
       "      <td>0.055556</td>\n",
       "    </tr>\n",
       "    <tr>\n",
       "      <th>2</th>\n",
       "      <td>0.055556</td>\n",
       "      <td>0.055556</td>\n",
       "      <td>0.055556</td>\n",
       "      <td>0.055556</td>\n",
       "      <td>0.055556</td>\n",
       "      <td>0.055556</td>\n",
       "      <td>0.611111</td>\n",
       "      <td>0.055556</td>\n",
       "    </tr>\n",
       "    <tr>\n",
       "      <th>3</th>\n",
       "      <td>0.392857</td>\n",
       "      <td>0.392847</td>\n",
       "      <td>0.035714</td>\n",
       "      <td>0.035714</td>\n",
       "      <td>0.035714</td>\n",
       "      <td>0.035714</td>\n",
       "      <td>0.035714</td>\n",
       "      <td>0.035724</td>\n",
       "    </tr>\n",
       "    <tr>\n",
       "      <th>4</th>\n",
       "      <td>0.055556</td>\n",
       "      <td>0.055561</td>\n",
       "      <td>0.055556</td>\n",
       "      <td>0.055557</td>\n",
       "      <td>0.055556</td>\n",
       "      <td>0.055556</td>\n",
       "      <td>0.055556</td>\n",
       "      <td>0.611104</td>\n",
       "    </tr>\n",
       "  </tbody>\n",
       "</table>\n",
       "</div>"
      ],
      "text/plain": [
       "     t0_lda    t1_lda    t2_lda    t3_lda    t4_lda    t5_lda    t6_lda  \\\n",
       "0  0.035719  0.392852  0.035714  0.392857  0.035714  0.035714  0.035714   \n",
       "1  0.055556  0.055556  0.055556  0.055561  0.055556  0.611106  0.055556   \n",
       "2  0.055556  0.055556  0.055556  0.055556  0.055556  0.055556  0.611111   \n",
       "3  0.392857  0.392847  0.035714  0.035714  0.035714  0.035714  0.035714   \n",
       "4  0.055556  0.055561  0.055556  0.055557  0.055556  0.055556  0.055556   \n",
       "\n",
       "     t7_lda  \n",
       "0  0.035714  \n",
       "1  0.055556  \n",
       "2  0.055556  \n",
       "3  0.035724  \n",
       "4  0.611104  "
      ]
     },
     "execution_count": 28,
     "metadata": {},
     "output_type": "execute_result"
    }
   ],
   "source": [
    "DTM_df.head()"
   ]
  },
  {
   "cell_type": "markdown",
   "metadata": {},
   "source": [
    "## Create dataframe of topics' top n words and their probabilities"
   ]
  },
  {
   "cell_type": "markdown",
   "metadata": {},
   "source": [
    "Here we will use ```topicmod.lda_topic_top_words``` to create a dataframe in which:\n",
    "- each row represents a document/text\n",
    "- columns contains a list of that topic's top n words and a list of their the probability for that topic"
   ]
  },
  {
   "cell_type": "code",
   "execution_count": 29,
   "metadata": {},
   "outputs": [
    {
     "data": {
      "text/html": [
       "<div>\n",
       "<style scoped>\n",
       "    .dataframe tbody tr th:only-of-type {\n",
       "        vertical-align: middle;\n",
       "    }\n",
       "\n",
       "    .dataframe tbody tr th {\n",
       "        vertical-align: top;\n",
       "    }\n",
       "\n",
       "    .dataframe thead th {\n",
       "        text-align: right;\n",
       "    }\n",
       "</style>\n",
       "<table border=\"1\" class=\"dataframe\">\n",
       "  <thead>\n",
       "    <tr style=\"text-align: right;\">\n",
       "      <th></th>\n",
       "      <th>t0_top_words_lda</th>\n",
       "      <th>t1_top_words_lda</th>\n",
       "      <th>t2_top_words_lda</th>\n",
       "      <th>t3_top_words_lda</th>\n",
       "      <th>t4_top_words_lda</th>\n",
       "      <th>t5_top_words_lda</th>\n",
       "      <th>t6_top_words_lda</th>\n",
       "      <th>t7_top_words_lda</th>\n",
       "      <th>t0_top_word_pbs_lda</th>\n",
       "      <th>t1_top_word_pbs_lda</th>\n",
       "      <th>t2_top_word_pbs_lda</th>\n",
       "      <th>t3_top_word_pbs_lda</th>\n",
       "      <th>t4_top_word_pbs_lda</th>\n",
       "      <th>t5_top_word_pbs_lda</th>\n",
       "      <th>t6_top_word_pbs_lda</th>\n",
       "      <th>t7_top_word_pbs_lda</th>\n",
       "    </tr>\n",
       "  </thead>\n",
       "  <tbody>\n",
       "    <tr>\n",
       "      <th>0</th>\n",
       "      <td>[service, food, dont, take, burger, slow]</td>\n",
       "      <td>[back, food, never, wont, think, flavor]</td>\n",
       "      <td>[nice, friendly, staff, steak, feel, leave]</td>\n",
       "      <td>[restaurant, wait, food, place, know, wasnt]</td>\n",
       "      <td>[time, price, food, dish, table, minute]</td>\n",
       "      <td>[place, im, experience, star, definitely, vega]</td>\n",
       "      <td>[love, delicious, food, disappointed, eat, way]</td>\n",
       "      <td>[taste, order, pretty, chicken, salad, meal]</td>\n",
       "      <td>[0.36018994, 0.10928859, 0.07748137, 0.07019427, 0.069623806, 0.048272293]</td>\n",
       "      <td>[0.28067747, 0.21475688, 0.117514506, 0.08465971, 0.074982785, 0.06573777]</td>\n",
       "      <td>[0.19870818, 0.19126904, 0.1397926, 0.13168417, 0.103076026, 0.07365975]</td>\n",
       "      <td>[0.16732669, 0.10850778, 0.091323055, 0.079972945, 0.07774444, 0.077655576]</td>\n",
       "      <td>[0.23752207, 0.082745045, 0.07371786, 0.0647541, 0.061008148, 0.05672587]</td>\n",
       "      <td>[0.36752352, 0.079928055, 0.072358236, 0.06851591, 0.06282936, 0.058596443]</td>\n",
       "      <td>[0.13786134, 0.105663486, 0.09058018, 0.07359175, 0.073384725, 0.068918474]</td>\n",
       "      <td>[0.12850812, 0.11632687, 0.115979604, 0.10293377, 0.09791674, 0.08564158]</td>\n",
       "    </tr>\n",
       "    <tr>\n",
       "      <th>1</th>\n",
       "      <td>[service, food, dont, take, burger, slow]</td>\n",
       "      <td>[back, food, never, wont, think, flavor]</td>\n",
       "      <td>[nice, friendly, staff, steak, feel, leave]</td>\n",
       "      <td>[restaurant, wait, food, place, know, wasnt]</td>\n",
       "      <td>[time, price, food, dish, table, minute]</td>\n",
       "      <td>[place, im, experience, star, definitely, vega]</td>\n",
       "      <td>[love, delicious, food, disappointed, eat, way]</td>\n",
       "      <td>[taste, order, pretty, chicken, salad, meal]</td>\n",
       "      <td>[0.36018994, 0.10928859, 0.07748137, 0.07019427, 0.069623806, 0.048272293]</td>\n",
       "      <td>[0.28067747, 0.21475688, 0.117514506, 0.08465971, 0.074982785, 0.06573777]</td>\n",
       "      <td>[0.19870818, 0.19126904, 0.1397926, 0.13168417, 0.103076026, 0.07365975]</td>\n",
       "      <td>[0.16732669, 0.10850778, 0.091323055, 0.079972945, 0.07774444, 0.077655576]</td>\n",
       "      <td>[0.23752207, 0.082745045, 0.07371786, 0.0647541, 0.061008148, 0.05672587]</td>\n",
       "      <td>[0.36752352, 0.079928055, 0.072358236, 0.06851591, 0.06282936, 0.058596443]</td>\n",
       "      <td>[0.13786134, 0.105663486, 0.09058018, 0.07359175, 0.073384725, 0.068918474]</td>\n",
       "      <td>[0.12850812, 0.11632687, 0.115979604, 0.10293377, 0.09791674, 0.08564158]</td>\n",
       "    </tr>\n",
       "    <tr>\n",
       "      <th>2</th>\n",
       "      <td>[service, food, dont, take, burger, slow]</td>\n",
       "      <td>[back, food, never, wont, think, flavor]</td>\n",
       "      <td>[nice, friendly, staff, steak, feel, leave]</td>\n",
       "      <td>[restaurant, wait, food, place, know, wasnt]</td>\n",
       "      <td>[time, price, food, dish, table, minute]</td>\n",
       "      <td>[place, im, experience, star, definitely, vega]</td>\n",
       "      <td>[love, delicious, food, disappointed, eat, way]</td>\n",
       "      <td>[taste, order, pretty, chicken, salad, meal]</td>\n",
       "      <td>[0.36018994, 0.10928859, 0.07748137, 0.07019427, 0.069623806, 0.048272293]</td>\n",
       "      <td>[0.28067747, 0.21475688, 0.117514506, 0.08465971, 0.074982785, 0.06573777]</td>\n",
       "      <td>[0.19870818, 0.19126904, 0.1397926, 0.13168417, 0.103076026, 0.07365975]</td>\n",
       "      <td>[0.16732669, 0.10850778, 0.091323055, 0.079972945, 0.07774444, 0.077655576]</td>\n",
       "      <td>[0.23752207, 0.082745045, 0.07371786, 0.0647541, 0.061008148, 0.05672587]</td>\n",
       "      <td>[0.36752352, 0.079928055, 0.072358236, 0.06851591, 0.06282936, 0.058596443]</td>\n",
       "      <td>[0.13786134, 0.105663486, 0.09058018, 0.07359175, 0.073384725, 0.068918474]</td>\n",
       "      <td>[0.12850812, 0.11632687, 0.115979604, 0.10293377, 0.09791674, 0.08564158]</td>\n",
       "    </tr>\n",
       "    <tr>\n",
       "      <th>3</th>\n",
       "      <td>[service, food, dont, take, burger, slow]</td>\n",
       "      <td>[back, food, never, wont, think, flavor]</td>\n",
       "      <td>[nice, friendly, staff, steak, feel, leave]</td>\n",
       "      <td>[restaurant, wait, food, place, know, wasnt]</td>\n",
       "      <td>[time, price, food, dish, table, minute]</td>\n",
       "      <td>[place, im, experience, star, definitely, vega]</td>\n",
       "      <td>[love, delicious, food, disappointed, eat, way]</td>\n",
       "      <td>[taste, order, pretty, chicken, salad, meal]</td>\n",
       "      <td>[0.36018994, 0.10928859, 0.07748137, 0.07019427, 0.069623806, 0.048272293]</td>\n",
       "      <td>[0.28067747, 0.21475688, 0.117514506, 0.08465971, 0.074982785, 0.06573777]</td>\n",
       "      <td>[0.19870818, 0.19126904, 0.1397926, 0.13168417, 0.103076026, 0.07365975]</td>\n",
       "      <td>[0.16732669, 0.10850778, 0.091323055, 0.079972945, 0.07774444, 0.077655576]</td>\n",
       "      <td>[0.23752207, 0.082745045, 0.07371786, 0.0647541, 0.061008148, 0.05672587]</td>\n",
       "      <td>[0.36752352, 0.079928055, 0.072358236, 0.06851591, 0.06282936, 0.058596443]</td>\n",
       "      <td>[0.13786134, 0.105663486, 0.09058018, 0.07359175, 0.073384725, 0.068918474]</td>\n",
       "      <td>[0.12850812, 0.11632687, 0.115979604, 0.10293377, 0.09791674, 0.08564158]</td>\n",
       "    </tr>\n",
       "    <tr>\n",
       "      <th>4</th>\n",
       "      <td>[service, food, dont, take, burger, slow]</td>\n",
       "      <td>[back, food, never, wont, think, flavor]</td>\n",
       "      <td>[nice, friendly, staff, steak, feel, leave]</td>\n",
       "      <td>[restaurant, wait, food, place, know, wasnt]</td>\n",
       "      <td>[time, price, food, dish, table, minute]</td>\n",
       "      <td>[place, im, experience, star, definitely, vega]</td>\n",
       "      <td>[love, delicious, food, disappointed, eat, way]</td>\n",
       "      <td>[taste, order, pretty, chicken, salad, meal]</td>\n",
       "      <td>[0.36018994, 0.10928859, 0.07748137, 0.07019427, 0.069623806, 0.048272293]</td>\n",
       "      <td>[0.28067747, 0.21475688, 0.117514506, 0.08465971, 0.074982785, 0.06573777]</td>\n",
       "      <td>[0.19870818, 0.19126904, 0.1397926, 0.13168417, 0.103076026, 0.07365975]</td>\n",
       "      <td>[0.16732669, 0.10850778, 0.091323055, 0.079972945, 0.07774444, 0.077655576]</td>\n",
       "      <td>[0.23752207, 0.082745045, 0.07371786, 0.0647541, 0.061008148, 0.05672587]</td>\n",
       "      <td>[0.36752352, 0.079928055, 0.072358236, 0.06851591, 0.06282936, 0.058596443]</td>\n",
       "      <td>[0.13786134, 0.105663486, 0.09058018, 0.07359175, 0.073384725, 0.068918474]</td>\n",
       "      <td>[0.12850812, 0.11632687, 0.115979604, 0.10293377, 0.09791674, 0.08564158]</td>\n",
       "    </tr>\n",
       "  </tbody>\n",
       "</table>\n",
       "</div>"
      ],
      "text/plain": [
       "                            t0_top_words_lda  \\\n",
       "0  [service, food, dont, take, burger, slow]   \n",
       "1  [service, food, dont, take, burger, slow]   \n",
       "2  [service, food, dont, take, burger, slow]   \n",
       "3  [service, food, dont, take, burger, slow]   \n",
       "4  [service, food, dont, take, burger, slow]   \n",
       "\n",
       "                           t1_top_words_lda  \\\n",
       "0  [back, food, never, wont, think, flavor]   \n",
       "1  [back, food, never, wont, think, flavor]   \n",
       "2  [back, food, never, wont, think, flavor]   \n",
       "3  [back, food, never, wont, think, flavor]   \n",
       "4  [back, food, never, wont, think, flavor]   \n",
       "\n",
       "                              t2_top_words_lda  \\\n",
       "0  [nice, friendly, staff, steak, feel, leave]   \n",
       "1  [nice, friendly, staff, steak, feel, leave]   \n",
       "2  [nice, friendly, staff, steak, feel, leave]   \n",
       "3  [nice, friendly, staff, steak, feel, leave]   \n",
       "4  [nice, friendly, staff, steak, feel, leave]   \n",
       "\n",
       "                               t3_top_words_lda  \\\n",
       "0  [restaurant, wait, food, place, know, wasnt]   \n",
       "1  [restaurant, wait, food, place, know, wasnt]   \n",
       "2  [restaurant, wait, food, place, know, wasnt]   \n",
       "3  [restaurant, wait, food, place, know, wasnt]   \n",
       "4  [restaurant, wait, food, place, know, wasnt]   \n",
       "\n",
       "                           t4_top_words_lda  \\\n",
       "0  [time, price, food, dish, table, minute]   \n",
       "1  [time, price, food, dish, table, minute]   \n",
       "2  [time, price, food, dish, table, minute]   \n",
       "3  [time, price, food, dish, table, minute]   \n",
       "4  [time, price, food, dish, table, minute]   \n",
       "\n",
       "                                  t5_top_words_lda  \\\n",
       "0  [place, im, experience, star, definitely, vega]   \n",
       "1  [place, im, experience, star, definitely, vega]   \n",
       "2  [place, im, experience, star, definitely, vega]   \n",
       "3  [place, im, experience, star, definitely, vega]   \n",
       "4  [place, im, experience, star, definitely, vega]   \n",
       "\n",
       "                                  t6_top_words_lda  \\\n",
       "0  [love, delicious, food, disappointed, eat, way]   \n",
       "1  [love, delicious, food, disappointed, eat, way]   \n",
       "2  [love, delicious, food, disappointed, eat, way]   \n",
       "3  [love, delicious, food, disappointed, eat, way]   \n",
       "4  [love, delicious, food, disappointed, eat, way]   \n",
       "\n",
       "                               t7_top_words_lda  \\\n",
       "0  [taste, order, pretty, chicken, salad, meal]   \n",
       "1  [taste, order, pretty, chicken, salad, meal]   \n",
       "2  [taste, order, pretty, chicken, salad, meal]   \n",
       "3  [taste, order, pretty, chicken, salad, meal]   \n",
       "4  [taste, order, pretty, chicken, salad, meal]   \n",
       "\n",
       "                                                          t0_top_word_pbs_lda  \\\n",
       "0  [0.36018994, 0.10928859, 0.07748137, 0.07019427, 0.069623806, 0.048272293]   \n",
       "1  [0.36018994, 0.10928859, 0.07748137, 0.07019427, 0.069623806, 0.048272293]   \n",
       "2  [0.36018994, 0.10928859, 0.07748137, 0.07019427, 0.069623806, 0.048272293]   \n",
       "3  [0.36018994, 0.10928859, 0.07748137, 0.07019427, 0.069623806, 0.048272293]   \n",
       "4  [0.36018994, 0.10928859, 0.07748137, 0.07019427, 0.069623806, 0.048272293]   \n",
       "\n",
       "                                                          t1_top_word_pbs_lda  \\\n",
       "0  [0.28067747, 0.21475688, 0.117514506, 0.08465971, 0.074982785, 0.06573777]   \n",
       "1  [0.28067747, 0.21475688, 0.117514506, 0.08465971, 0.074982785, 0.06573777]   \n",
       "2  [0.28067747, 0.21475688, 0.117514506, 0.08465971, 0.074982785, 0.06573777]   \n",
       "3  [0.28067747, 0.21475688, 0.117514506, 0.08465971, 0.074982785, 0.06573777]   \n",
       "4  [0.28067747, 0.21475688, 0.117514506, 0.08465971, 0.074982785, 0.06573777]   \n",
       "\n",
       "                                                        t2_top_word_pbs_lda  \\\n",
       "0  [0.19870818, 0.19126904, 0.1397926, 0.13168417, 0.103076026, 0.07365975]   \n",
       "1  [0.19870818, 0.19126904, 0.1397926, 0.13168417, 0.103076026, 0.07365975]   \n",
       "2  [0.19870818, 0.19126904, 0.1397926, 0.13168417, 0.103076026, 0.07365975]   \n",
       "3  [0.19870818, 0.19126904, 0.1397926, 0.13168417, 0.103076026, 0.07365975]   \n",
       "4  [0.19870818, 0.19126904, 0.1397926, 0.13168417, 0.103076026, 0.07365975]   \n",
       "\n",
       "                                                           t3_top_word_pbs_lda  \\\n",
       "0  [0.16732669, 0.10850778, 0.091323055, 0.079972945, 0.07774444, 0.077655576]   \n",
       "1  [0.16732669, 0.10850778, 0.091323055, 0.079972945, 0.07774444, 0.077655576]   \n",
       "2  [0.16732669, 0.10850778, 0.091323055, 0.079972945, 0.07774444, 0.077655576]   \n",
       "3  [0.16732669, 0.10850778, 0.091323055, 0.079972945, 0.07774444, 0.077655576]   \n",
       "4  [0.16732669, 0.10850778, 0.091323055, 0.079972945, 0.07774444, 0.077655576]   \n",
       "\n",
       "                                                         t4_top_word_pbs_lda  \\\n",
       "0  [0.23752207, 0.082745045, 0.07371786, 0.0647541, 0.061008148, 0.05672587]   \n",
       "1  [0.23752207, 0.082745045, 0.07371786, 0.0647541, 0.061008148, 0.05672587]   \n",
       "2  [0.23752207, 0.082745045, 0.07371786, 0.0647541, 0.061008148, 0.05672587]   \n",
       "3  [0.23752207, 0.082745045, 0.07371786, 0.0647541, 0.061008148, 0.05672587]   \n",
       "4  [0.23752207, 0.082745045, 0.07371786, 0.0647541, 0.061008148, 0.05672587]   \n",
       "\n",
       "                                                           t5_top_word_pbs_lda  \\\n",
       "0  [0.36752352, 0.079928055, 0.072358236, 0.06851591, 0.06282936, 0.058596443]   \n",
       "1  [0.36752352, 0.079928055, 0.072358236, 0.06851591, 0.06282936, 0.058596443]   \n",
       "2  [0.36752352, 0.079928055, 0.072358236, 0.06851591, 0.06282936, 0.058596443]   \n",
       "3  [0.36752352, 0.079928055, 0.072358236, 0.06851591, 0.06282936, 0.058596443]   \n",
       "4  [0.36752352, 0.079928055, 0.072358236, 0.06851591, 0.06282936, 0.058596443]   \n",
       "\n",
       "                                                           t6_top_word_pbs_lda  \\\n",
       "0  [0.13786134, 0.105663486, 0.09058018, 0.07359175, 0.073384725, 0.068918474]   \n",
       "1  [0.13786134, 0.105663486, 0.09058018, 0.07359175, 0.073384725, 0.068918474]   \n",
       "2  [0.13786134, 0.105663486, 0.09058018, 0.07359175, 0.073384725, 0.068918474]   \n",
       "3  [0.13786134, 0.105663486, 0.09058018, 0.07359175, 0.073384725, 0.068918474]   \n",
       "4  [0.13786134, 0.105663486, 0.09058018, 0.07359175, 0.073384725, 0.068918474]   \n",
       "\n",
       "                                                         t7_top_word_pbs_lda  \n",
       "0  [0.12850812, 0.11632687, 0.115979604, 0.10293377, 0.09791674, 0.08564158]  \n",
       "1  [0.12850812, 0.11632687, 0.115979604, 0.10293377, 0.09791674, 0.08564158]  \n",
       "2  [0.12850812, 0.11632687, 0.115979604, 0.10293377, 0.09791674, 0.08564158]  \n",
       "3  [0.12850812, 0.11632687, 0.115979604, 0.10293377, 0.09791674, 0.08564158]  \n",
       "4  [0.12850812, 0.11632687, 0.115979604, 0.10293377, 0.09791674, 0.08564158]  "
      ]
     },
     "execution_count": 29,
     "metadata": {},
     "output_type": "execute_result"
    }
   ],
   "source": [
    "# (iv) extract top n words and their probabilities for each topic, turn them into a dataframe\n",
    "\n",
    "words_topics_dict = lda_topic_top_words(lda_mod = lda_model_1, n_top_words = 6)\n",
    "words_topics_df = topictopwords_dict2df(words_topics_dict, orig_dataset = df, tech = 'lda')\n",
    "\n",
    "words_topics_df.head()"
   ]
  },
  {
   "cell_type": "markdown",
   "metadata": {},
   "source": [
    "## Create dataframe with top n topics for each document"
   ]
  },
  {
   "cell_type": "markdown",
   "metadata": {},
   "source": [
    "Here we use ```topicmod.lda_ranked_topics2df``` to create a dataframe in which:\n",
    "- rows are documents\n",
    "- the first column ```ranked_topics_lda``` contains tuples of ranked topics for each document; if all topics have the same probability for a document, then topics are ordered by their index (e.g., (0,1,2,3))\n",
    "- the second column ```ranked_topics_pbs_lda``` contains tuples of the ranked topics' probabilities for each document"
   ]
  },
  {
   "cell_type": "code",
   "execution_count": 30,
   "metadata": {},
   "outputs": [
    {
     "data": {
      "text/html": [
       "<div>\n",
       "<style scoped>\n",
       "    .dataframe tbody tr th:only-of-type {\n",
       "        vertical-align: middle;\n",
       "    }\n",
       "\n",
       "    .dataframe tbody tr th {\n",
       "        vertical-align: top;\n",
       "    }\n",
       "\n",
       "    .dataframe thead th {\n",
       "        text-align: right;\n",
       "    }\n",
       "</style>\n",
       "<table border=\"1\" class=\"dataframe\">\n",
       "  <thead>\n",
       "    <tr style=\"text-align: right;\">\n",
       "      <th></th>\n",
       "      <th>ranked_topics_lda</th>\n",
       "      <th>ranked_topics_pbs_lda</th>\n",
       "    </tr>\n",
       "  </thead>\n",
       "  <tbody>\n",
       "    <tr>\n",
       "      <th>0</th>\n",
       "      <td>(3, 1, 0, 2, 4, 5, 6, 7)</td>\n",
       "      <td>(0.39285716, 0.39285064, 0.03572079, 0.035714287, 0.035714287, 0.035714287, 0.035714287, 0.035714287)</td>\n",
       "    </tr>\n",
       "    <tr>\n",
       "      <th>1</th>\n",
       "      <td>(5, 3, 0, 1, 2, 4, 6, 7)</td>\n",
       "      <td>(0.6111058, 0.05556089, 0.05555556, 0.05555556, 0.05555556, 0.05555556, 0.05555556, 0.05555556)</td>\n",
       "    </tr>\n",
       "    <tr>\n",
       "      <th>2</th>\n",
       "      <td>(6, 0, 1, 2, 3, 4, 5, 7)</td>\n",
       "      <td>(0.6111111, 0.055555556, 0.055555556, 0.055555556, 0.055555556, 0.055555556, 0.055555556, 0.055555556)</td>\n",
       "    </tr>\n",
       "    <tr>\n",
       "      <th>3</th>\n",
       "      <td>(0, 1, 7, 2, 3, 4, 5, 6)</td>\n",
       "      <td>(0.39285713, 0.39284754, 0.03572388, 0.035714284, 0.035714284, 0.035714284, 0.035714284, 0.035714284)</td>\n",
       "    </tr>\n",
       "    <tr>\n",
       "      <th>4</th>\n",
       "      <td>(7, 1, 3, 0, 2, 4, 5, 6)</td>\n",
       "      <td>(0.61110574, 0.05555923, 0.05555722, 0.055555552, 0.055555552, 0.055555552, 0.055555552, 0.055555552)</td>\n",
       "    </tr>\n",
       "  </tbody>\n",
       "</table>\n",
       "</div>"
      ],
      "text/plain": [
       "          ranked_topics_lda  \\\n",
       "0  (3, 1, 0, 2, 4, 5, 6, 7)   \n",
       "1  (5, 3, 0, 1, 2, 4, 6, 7)   \n",
       "2  (6, 0, 1, 2, 3, 4, 5, 7)   \n",
       "3  (0, 1, 7, 2, 3, 4, 5, 6)   \n",
       "4  (7, 1, 3, 0, 2, 4, 5, 6)   \n",
       "\n",
       "                                                                                    ranked_topics_pbs_lda  \n",
       "0  (0.39285716, 0.39285064, 0.03572079, 0.035714287, 0.035714287, 0.035714287, 0.035714287, 0.035714287)   \n",
       "1  (0.6111058, 0.05556089, 0.05555556, 0.05555556, 0.05555556, 0.05555556, 0.05555556, 0.05555556)         \n",
       "2  (0.6111111, 0.055555556, 0.055555556, 0.055555556, 0.055555556, 0.055555556, 0.055555556, 0.055555556)  \n",
       "3  (0.39285713, 0.39284754, 0.03572388, 0.035714284, 0.035714284, 0.035714284, 0.035714284, 0.035714284)   \n",
       "4  (0.61110574, 0.05555923, 0.05555722, 0.055555552, 0.055555552, 0.055555552, 0.055555552, 0.055555552)   "
      ]
     },
     "execution_count": 30,
     "metadata": {},
     "output_type": "execute_result"
    }
   ],
   "source": [
    "# (v) Ranked topics for each doc, create a DTM dataframe \n",
    "\n",
    "ranked_DTM_df =  lda_ranked_topics2df(lda_mod = lda_model_1, corpus = bow_corpus)\n",
    "\n",
    "ranked_DTM_df.head()"
   ]
  },
  {
   "cell_type": "markdown",
   "metadata": {},
   "source": [
    "### Join LDA-results datasets with the original dataset "
   ]
  },
  {
   "cell_type": "markdown",
   "metadata": {
    "collapsed": true
   },
   "source": [
    "We'll be using our ```nlpfunctions.utils.merge_dfs``` function"
   ]
  },
  {
   "cell_type": "code",
   "execution_count": 31,
   "metadata": {},
   "outputs": [],
   "source": [
    "text_df = merge_dfs(df, DTM_df, words_topics_df, ranked_DTM_df)"
   ]
  },
  {
   "cell_type": "code",
   "execution_count": 32,
   "metadata": {},
   "outputs": [
    {
     "data": {
      "text/html": [
       "<div>\n",
       "<style scoped>\n",
       "    .dataframe tbody tr th:only-of-type {\n",
       "        vertical-align: middle;\n",
       "    }\n",
       "\n",
       "    .dataframe tbody tr th {\n",
       "        vertical-align: top;\n",
       "    }\n",
       "\n",
       "    .dataframe thead th {\n",
       "        text-align: right;\n",
       "    }\n",
       "</style>\n",
       "<table border=\"1\" class=\"dataframe\">\n",
       "  <thead>\n",
       "    <tr style=\"text-align: right;\">\n",
       "      <th></th>\n",
       "      <th>text</th>\n",
       "      <th>score</th>\n",
       "      <th>source</th>\n",
       "      <th>text_lemmas</th>\n",
       "      <th>t0_lda</th>\n",
       "      <th>t1_lda</th>\n",
       "      <th>t2_lda</th>\n",
       "      <th>t3_lda</th>\n",
       "      <th>t4_lda</th>\n",
       "      <th>t5_lda</th>\n",
       "      <th>...</th>\n",
       "      <th>t0_top_word_pbs_lda</th>\n",
       "      <th>t1_top_word_pbs_lda</th>\n",
       "      <th>t2_top_word_pbs_lda</th>\n",
       "      <th>t3_top_word_pbs_lda</th>\n",
       "      <th>t4_top_word_pbs_lda</th>\n",
       "      <th>t5_top_word_pbs_lda</th>\n",
       "      <th>t6_top_word_pbs_lda</th>\n",
       "      <th>t7_top_word_pbs_lda</th>\n",
       "      <th>ranked_topics_lda</th>\n",
       "      <th>ranked_topics_pbs_lda</th>\n",
       "    </tr>\n",
       "  </thead>\n",
       "  <tbody>\n",
       "    <tr>\n",
       "      <th>0</th>\n",
       "      <td>Wow... Loved this place.</td>\n",
       "      <td>1</td>\n",
       "      <td>yelp</td>\n",
       "      <td>[wow, love, place]</td>\n",
       "      <td>0.035719</td>\n",
       "      <td>0.392852</td>\n",
       "      <td>0.035714</td>\n",
       "      <td>0.392857</td>\n",
       "      <td>0.035714</td>\n",
       "      <td>0.035714</td>\n",
       "      <td>...</td>\n",
       "      <td>[0.36018994, 0.10928859, 0.07748137, 0.07019427, 0.069623806, 0.048272293]</td>\n",
       "      <td>[0.28067747, 0.21475688, 0.117514506, 0.08465971, 0.074982785, 0.06573777]</td>\n",
       "      <td>[0.19870818, 0.19126904, 0.1397926, 0.13168417, 0.103076026, 0.07365975]</td>\n",
       "      <td>[0.16732669, 0.10850778, 0.091323055, 0.079972945, 0.07774444, 0.077655576]</td>\n",
       "      <td>[0.23752207, 0.082745045, 0.07371786, 0.0647541, 0.061008148, 0.05672587]</td>\n",
       "      <td>[0.36752352, 0.079928055, 0.072358236, 0.06851591, 0.06282936, 0.058596443]</td>\n",
       "      <td>[0.13786134, 0.105663486, 0.09058018, 0.07359175, 0.073384725, 0.068918474]</td>\n",
       "      <td>[0.12850812, 0.11632687, 0.115979604, 0.10293377, 0.09791674, 0.08564158]</td>\n",
       "      <td>(3, 1, 0, 2, 4, 5, 6, 7)</td>\n",
       "      <td>(0.39285716, 0.39285064, 0.03572079, 0.035714287, 0.035714287, 0.035714287, 0.035714287, 0.035714287)</td>\n",
       "    </tr>\n",
       "    <tr>\n",
       "      <th>1</th>\n",
       "      <td>Crust is not good.</td>\n",
       "      <td>0</td>\n",
       "      <td>yelp</td>\n",
       "      <td>[crust]</td>\n",
       "      <td>0.055556</td>\n",
       "      <td>0.055556</td>\n",
       "      <td>0.055556</td>\n",
       "      <td>0.055561</td>\n",
       "      <td>0.055556</td>\n",
       "      <td>0.611106</td>\n",
       "      <td>...</td>\n",
       "      <td>[0.36018994, 0.10928859, 0.07748137, 0.07019427, 0.069623806, 0.048272293]</td>\n",
       "      <td>[0.28067747, 0.21475688, 0.117514506, 0.08465971, 0.074982785, 0.06573777]</td>\n",
       "      <td>[0.19870818, 0.19126904, 0.1397926, 0.13168417, 0.103076026, 0.07365975]</td>\n",
       "      <td>[0.16732669, 0.10850778, 0.091323055, 0.079972945, 0.07774444, 0.077655576]</td>\n",
       "      <td>[0.23752207, 0.082745045, 0.07371786, 0.0647541, 0.061008148, 0.05672587]</td>\n",
       "      <td>[0.36752352, 0.079928055, 0.072358236, 0.06851591, 0.06282936, 0.058596443]</td>\n",
       "      <td>[0.13786134, 0.105663486, 0.09058018, 0.07359175, 0.073384725, 0.068918474]</td>\n",
       "      <td>[0.12850812, 0.11632687, 0.115979604, 0.10293377, 0.09791674, 0.08564158]</td>\n",
       "      <td>(5, 3, 0, 1, 2, 4, 6, 7)</td>\n",
       "      <td>(0.6111058, 0.05556089, 0.05555556, 0.05555556, 0.05555556, 0.05555556, 0.05555556, 0.05555556)</td>\n",
       "    </tr>\n",
       "    <tr>\n",
       "      <th>2</th>\n",
       "      <td>Not tasty and the texture was just nasty.</td>\n",
       "      <td>0</td>\n",
       "      <td>yelp</td>\n",
       "      <td>[tasty, texture, nasty]</td>\n",
       "      <td>0.055556</td>\n",
       "      <td>0.055556</td>\n",
       "      <td>0.055556</td>\n",
       "      <td>0.055556</td>\n",
       "      <td>0.055556</td>\n",
       "      <td>0.055556</td>\n",
       "      <td>...</td>\n",
       "      <td>[0.36018994, 0.10928859, 0.07748137, 0.07019427, 0.069623806, 0.048272293]</td>\n",
       "      <td>[0.28067747, 0.21475688, 0.117514506, 0.08465971, 0.074982785, 0.06573777]</td>\n",
       "      <td>[0.19870818, 0.19126904, 0.1397926, 0.13168417, 0.103076026, 0.07365975]</td>\n",
       "      <td>[0.16732669, 0.10850778, 0.091323055, 0.079972945, 0.07774444, 0.077655576]</td>\n",
       "      <td>[0.23752207, 0.082745045, 0.07371786, 0.0647541, 0.061008148, 0.05672587]</td>\n",
       "      <td>[0.36752352, 0.079928055, 0.072358236, 0.06851591, 0.06282936, 0.058596443]</td>\n",
       "      <td>[0.13786134, 0.105663486, 0.09058018, 0.07359175, 0.073384725, 0.068918474]</td>\n",
       "      <td>[0.12850812, 0.11632687, 0.115979604, 0.10293377, 0.09791674, 0.08564158]</td>\n",
       "      <td>(6, 0, 1, 2, 3, 4, 5, 7)</td>\n",
       "      <td>(0.6111111, 0.055555556, 0.055555556, 0.055555556, 0.055555556, 0.055555556, 0.055555556, 0.055555556)</td>\n",
       "    </tr>\n",
       "    <tr>\n",
       "      <th>3</th>\n",
       "      <td>Stopped by during the late May bank holiday off Rick Steve recommendation and loved it.</td>\n",
       "      <td>1</td>\n",
       "      <td>yelp</td>\n",
       "      <td>[stop, bank, holiday, rick, steve, recommendation, love]</td>\n",
       "      <td>0.392857</td>\n",
       "      <td>0.392847</td>\n",
       "      <td>0.035714</td>\n",
       "      <td>0.035714</td>\n",
       "      <td>0.035714</td>\n",
       "      <td>0.035714</td>\n",
       "      <td>...</td>\n",
       "      <td>[0.36018994, 0.10928859, 0.07748137, 0.07019427, 0.069623806, 0.048272293]</td>\n",
       "      <td>[0.28067747, 0.21475688, 0.117514506, 0.08465971, 0.074982785, 0.06573777]</td>\n",
       "      <td>[0.19870818, 0.19126904, 0.1397926, 0.13168417, 0.103076026, 0.07365975]</td>\n",
       "      <td>[0.16732669, 0.10850778, 0.091323055, 0.079972945, 0.07774444, 0.077655576]</td>\n",
       "      <td>[0.23752207, 0.082745045, 0.07371786, 0.0647541, 0.061008148, 0.05672587]</td>\n",
       "      <td>[0.36752352, 0.079928055, 0.072358236, 0.06851591, 0.06282936, 0.058596443]</td>\n",
       "      <td>[0.13786134, 0.105663486, 0.09058018, 0.07359175, 0.073384725, 0.068918474]</td>\n",
       "      <td>[0.12850812, 0.11632687, 0.115979604, 0.10293377, 0.09791674, 0.08564158]</td>\n",
       "      <td>(0, 1, 7, 2, 3, 4, 5, 6)</td>\n",
       "      <td>(0.39285713, 0.39284754, 0.03572388, 0.035714284, 0.035714284, 0.035714284, 0.035714284, 0.035714284)</td>\n",
       "    </tr>\n",
       "    <tr>\n",
       "      <th>4</th>\n",
       "      <td>The selection on the menu was great and so were the prices.</td>\n",
       "      <td>1</td>\n",
       "      <td>yelp</td>\n",
       "      <td>[selection, menu, price]</td>\n",
       "      <td>0.055556</td>\n",
       "      <td>0.055561</td>\n",
       "      <td>0.055556</td>\n",
       "      <td>0.055557</td>\n",
       "      <td>0.055556</td>\n",
       "      <td>0.055556</td>\n",
       "      <td>...</td>\n",
       "      <td>[0.36018994, 0.10928859, 0.07748137, 0.07019427, 0.069623806, 0.048272293]</td>\n",
       "      <td>[0.28067747, 0.21475688, 0.117514506, 0.08465971, 0.074982785, 0.06573777]</td>\n",
       "      <td>[0.19870818, 0.19126904, 0.1397926, 0.13168417, 0.103076026, 0.07365975]</td>\n",
       "      <td>[0.16732669, 0.10850778, 0.091323055, 0.079972945, 0.07774444, 0.077655576]</td>\n",
       "      <td>[0.23752207, 0.082745045, 0.07371786, 0.0647541, 0.061008148, 0.05672587]</td>\n",
       "      <td>[0.36752352, 0.079928055, 0.072358236, 0.06851591, 0.06282936, 0.058596443]</td>\n",
       "      <td>[0.13786134, 0.105663486, 0.09058018, 0.07359175, 0.073384725, 0.068918474]</td>\n",
       "      <td>[0.12850812, 0.11632687, 0.115979604, 0.10293377, 0.09791674, 0.08564158]</td>\n",
       "      <td>(7, 1, 3, 0, 2, 4, 5, 6)</td>\n",
       "      <td>(0.61110574, 0.05555923, 0.05555722, 0.055555552, 0.055555552, 0.055555552, 0.055555552, 0.055555552)</td>\n",
       "    </tr>\n",
       "  </tbody>\n",
       "</table>\n",
       "<p>5 rows × 30 columns</p>\n",
       "</div>"
      ],
      "text/plain": [
       "                                                                                      text  \\\n",
       "0  Wow... Loved this place.                                                                  \n",
       "1  Crust is not good.                                                                        \n",
       "2  Not tasty and the texture was just nasty.                                                 \n",
       "3  Stopped by during the late May bank holiday off Rick Steve recommendation and loved it.   \n",
       "4  The selection on the menu was great and so were the prices.                               \n",
       "\n",
       "   score source                                               text_lemmas  \\\n",
       "0  1      yelp   [wow, love, place]                                         \n",
       "1  0      yelp   [crust]                                                    \n",
       "2  0      yelp   [tasty, texture, nasty]                                    \n",
       "3  1      yelp   [stop, bank, holiday, rick, steve, recommendation, love]   \n",
       "4  1      yelp   [selection, menu, price]                                   \n",
       "\n",
       "     t0_lda    t1_lda    t2_lda    t3_lda    t4_lda    t5_lda  \\\n",
       "0  0.035719  0.392852  0.035714  0.392857  0.035714  0.035714   \n",
       "1  0.055556  0.055556  0.055556  0.055561  0.055556  0.611106   \n",
       "2  0.055556  0.055556  0.055556  0.055556  0.055556  0.055556   \n",
       "3  0.392857  0.392847  0.035714  0.035714  0.035714  0.035714   \n",
       "4  0.055556  0.055561  0.055556  0.055557  0.055556  0.055556   \n",
       "\n",
       "                                                    ...                                                    \\\n",
       "0                                                   ...                                                     \n",
       "1                                                   ...                                                     \n",
       "2                                                   ...                                                     \n",
       "3                                                   ...                                                     \n",
       "4                                                   ...                                                     \n",
       "\n",
       "                                                          t0_top_word_pbs_lda  \\\n",
       "0  [0.36018994, 0.10928859, 0.07748137, 0.07019427, 0.069623806, 0.048272293]   \n",
       "1  [0.36018994, 0.10928859, 0.07748137, 0.07019427, 0.069623806, 0.048272293]   \n",
       "2  [0.36018994, 0.10928859, 0.07748137, 0.07019427, 0.069623806, 0.048272293]   \n",
       "3  [0.36018994, 0.10928859, 0.07748137, 0.07019427, 0.069623806, 0.048272293]   \n",
       "4  [0.36018994, 0.10928859, 0.07748137, 0.07019427, 0.069623806, 0.048272293]   \n",
       "\n",
       "                                                          t1_top_word_pbs_lda  \\\n",
       "0  [0.28067747, 0.21475688, 0.117514506, 0.08465971, 0.074982785, 0.06573777]   \n",
       "1  [0.28067747, 0.21475688, 0.117514506, 0.08465971, 0.074982785, 0.06573777]   \n",
       "2  [0.28067747, 0.21475688, 0.117514506, 0.08465971, 0.074982785, 0.06573777]   \n",
       "3  [0.28067747, 0.21475688, 0.117514506, 0.08465971, 0.074982785, 0.06573777]   \n",
       "4  [0.28067747, 0.21475688, 0.117514506, 0.08465971, 0.074982785, 0.06573777]   \n",
       "\n",
       "                                                        t2_top_word_pbs_lda  \\\n",
       "0  [0.19870818, 0.19126904, 0.1397926, 0.13168417, 0.103076026, 0.07365975]   \n",
       "1  [0.19870818, 0.19126904, 0.1397926, 0.13168417, 0.103076026, 0.07365975]   \n",
       "2  [0.19870818, 0.19126904, 0.1397926, 0.13168417, 0.103076026, 0.07365975]   \n",
       "3  [0.19870818, 0.19126904, 0.1397926, 0.13168417, 0.103076026, 0.07365975]   \n",
       "4  [0.19870818, 0.19126904, 0.1397926, 0.13168417, 0.103076026, 0.07365975]   \n",
       "\n",
       "                                                           t3_top_word_pbs_lda  \\\n",
       "0  [0.16732669, 0.10850778, 0.091323055, 0.079972945, 0.07774444, 0.077655576]   \n",
       "1  [0.16732669, 0.10850778, 0.091323055, 0.079972945, 0.07774444, 0.077655576]   \n",
       "2  [0.16732669, 0.10850778, 0.091323055, 0.079972945, 0.07774444, 0.077655576]   \n",
       "3  [0.16732669, 0.10850778, 0.091323055, 0.079972945, 0.07774444, 0.077655576]   \n",
       "4  [0.16732669, 0.10850778, 0.091323055, 0.079972945, 0.07774444, 0.077655576]   \n",
       "\n",
       "                                                         t4_top_word_pbs_lda  \\\n",
       "0  [0.23752207, 0.082745045, 0.07371786, 0.0647541, 0.061008148, 0.05672587]   \n",
       "1  [0.23752207, 0.082745045, 0.07371786, 0.0647541, 0.061008148, 0.05672587]   \n",
       "2  [0.23752207, 0.082745045, 0.07371786, 0.0647541, 0.061008148, 0.05672587]   \n",
       "3  [0.23752207, 0.082745045, 0.07371786, 0.0647541, 0.061008148, 0.05672587]   \n",
       "4  [0.23752207, 0.082745045, 0.07371786, 0.0647541, 0.061008148, 0.05672587]   \n",
       "\n",
       "                                                           t5_top_word_pbs_lda  \\\n",
       "0  [0.36752352, 0.079928055, 0.072358236, 0.06851591, 0.06282936, 0.058596443]   \n",
       "1  [0.36752352, 0.079928055, 0.072358236, 0.06851591, 0.06282936, 0.058596443]   \n",
       "2  [0.36752352, 0.079928055, 0.072358236, 0.06851591, 0.06282936, 0.058596443]   \n",
       "3  [0.36752352, 0.079928055, 0.072358236, 0.06851591, 0.06282936, 0.058596443]   \n",
       "4  [0.36752352, 0.079928055, 0.072358236, 0.06851591, 0.06282936, 0.058596443]   \n",
       "\n",
       "                                                           t6_top_word_pbs_lda  \\\n",
       "0  [0.13786134, 0.105663486, 0.09058018, 0.07359175, 0.073384725, 0.068918474]   \n",
       "1  [0.13786134, 0.105663486, 0.09058018, 0.07359175, 0.073384725, 0.068918474]   \n",
       "2  [0.13786134, 0.105663486, 0.09058018, 0.07359175, 0.073384725, 0.068918474]   \n",
       "3  [0.13786134, 0.105663486, 0.09058018, 0.07359175, 0.073384725, 0.068918474]   \n",
       "4  [0.13786134, 0.105663486, 0.09058018, 0.07359175, 0.073384725, 0.068918474]   \n",
       "\n",
       "                                                         t7_top_word_pbs_lda  \\\n",
       "0  [0.12850812, 0.11632687, 0.115979604, 0.10293377, 0.09791674, 0.08564158]   \n",
       "1  [0.12850812, 0.11632687, 0.115979604, 0.10293377, 0.09791674, 0.08564158]   \n",
       "2  [0.12850812, 0.11632687, 0.115979604, 0.10293377, 0.09791674, 0.08564158]   \n",
       "3  [0.12850812, 0.11632687, 0.115979604, 0.10293377, 0.09791674, 0.08564158]   \n",
       "4  [0.12850812, 0.11632687, 0.115979604, 0.10293377, 0.09791674, 0.08564158]   \n",
       "\n",
       "          ranked_topics_lda  \\\n",
       "0  (3, 1, 0, 2, 4, 5, 6, 7)   \n",
       "1  (5, 3, 0, 1, 2, 4, 6, 7)   \n",
       "2  (6, 0, 1, 2, 3, 4, 5, 7)   \n",
       "3  (0, 1, 7, 2, 3, 4, 5, 6)   \n",
       "4  (7, 1, 3, 0, 2, 4, 5, 6)   \n",
       "\n",
       "                                                                                    ranked_topics_pbs_lda  \n",
       "0  (0.39285716, 0.39285064, 0.03572079, 0.035714287, 0.035714287, 0.035714287, 0.035714287, 0.035714287)   \n",
       "1  (0.6111058, 0.05556089, 0.05555556, 0.05555556, 0.05555556, 0.05555556, 0.05555556, 0.05555556)         \n",
       "2  (0.6111111, 0.055555556, 0.055555556, 0.055555556, 0.055555556, 0.055555556, 0.055555556, 0.055555556)  \n",
       "3  (0.39285713, 0.39284754, 0.03572388, 0.035714284, 0.035714284, 0.035714284, 0.035714284, 0.035714284)   \n",
       "4  (0.61110574, 0.05555923, 0.05555722, 0.055555552, 0.055555552, 0.055555552, 0.055555552, 0.055555552)   \n",
       "\n",
       "[5 rows x 30 columns]"
      ]
     },
     "execution_count": 32,
     "metadata": {},
     "output_type": "execute_result"
    }
   ],
   "source": [
    "text_df.head()"
   ]
  },
  {
   "cell_type": "markdown",
   "metadata": {},
   "source": [
    "We can now use the LDA results as input for other analyses. For instance, here we show how we could include documents' ranked topics and probabilities in a classification pipeline."
   ]
  },
  {
   "cell_type": "code",
   "execution_count": 33,
   "metadata": {},
   "outputs": [],
   "source": [
    "from sklearn.feature_extraction.text import CountVectorizer, TfidfTransformer\n",
    "from sklearn.pipeline import Pipeline, FeatureUnion\n",
    "\n",
    "from sklearn.preprocessing import LabelEncoder, StandardScaler, OneHotEncoder, LabelBinarizer\n",
    "\n",
    "from sklearn.feature_extraction import DictVectorizer\n",
    "\n",
    "from sklearn.model_selection import GridSearchCV, cross_val_score, cross_validate, KFold\n",
    "from sklearn.model_selection import train_test_split\n",
    "from sklearn.metrics import roc_auc_score, confusion_matrix, classification_report, roc_curve\n",
    "\n",
    "from sklearn.svm import SVC\n"
   ]
  },
  {
   "cell_type": "code",
   "execution_count": 34,
   "metadata": {},
   "outputs": [],
   "source": [
    "pipe_lda_topic_pbs = Pipeline([\n",
    "        \n",
    "        ('selector', ColumnSelector(columns=['t0_lda', 't1_lda', 't2_lda', 't3_lda', 't4_lda', 't5_lda', 't6_lda', 't7_lda']))\n",
    "        \n",
    "        ])\n"
   ]
  },
  {
   "cell_type": "code",
   "execution_count": 35,
   "metadata": {},
   "outputs": [],
   "source": [
    "my_vec = CountVectorizer(tokenizer = word_tokenize,\n",
    "                         analyzer=\"word\",\n",
    "                         ngram_range = (1,3),\n",
    "                         stop_words=None,\n",
    "                         min_df=1\n",
    "                         )\n",
    "\n",
    "pipe_bags_words = Pipeline([\n",
    "        \n",
    "        ('selector', ColumnSelector(columns=['text'])),\n",
    "        ('transformer', Series2ListOfStrings()),\n",
    "        ('vec', my_vec),\n",
    "        ('tf_idf', TfidfTransformer())\n",
    "        ])\n",
    "\n"
   ]
  },
  {
   "cell_type": "code",
   "execution_count": 36,
   "metadata": {},
   "outputs": [],
   "source": [
    "# classifier\n",
    "\n",
    "svm = SVC(probability=True, C=1, kernel='linear')\n"
   ]
  },
  {
   "cell_type": "code",
   "execution_count": 37,
   "metadata": {},
   "outputs": [],
   "source": [
    "lda_bow_svm_clf = Pipeline([\n",
    "        \n",
    "        # Combined text (bag-of-word) and ad-hoc features\n",
    "        ('features', FeatureUnion(\n",
    "            \n",
    "                transformer_list = [\n",
    "                        ('lda', pipe_lda_topic_pbs),\n",
    "                        ('bow', pipe_bags_words)\n",
    "                        ],\n",
    "            \n",
    "                # weight components in FeatureUnion\n",
    "                transformer_weights={\n",
    "                        'lda': 0.6,\n",
    "                        'bow': 1.0\n",
    "                        }    \n",
    "                )),\n",
    "        \n",
    "        # Use classifier on combined features\n",
    "        ('classifier', svm)\n",
    "        \n",
    "        ])\n",
    "\n"
   ]
  },
  {
   "cell_type": "code",
   "execution_count": 38,
   "metadata": {
    "scrolled": true
   },
   "outputs": [],
   "source": [
    "X = text_df[['text', 't0_lda', 't1_lda', 't2_lda', 't3_lda', 't4_lda', 't5_lda', 't6_lda', 't7_lda']]\n",
    "y = text_df.score.values"
   ]
  },
  {
   "cell_type": "code",
   "execution_count": 39,
   "metadata": {},
   "outputs": [],
   "source": [
    "scores_svm = cross_validate(lda_bow_svm_clf, X, y, cv = 5, return_train_score=True)\n"
   ]
  },
  {
   "cell_type": "code",
   "execution_count": 40,
   "metadata": {},
   "outputs": [
    {
     "name": "stdout",
     "output_type": "stream",
     "text": [
      "Train Accuracy: 0.999 (std 0.001)\n",
      "Test Accuracy: 0.823 (std 0.027)\n"
     ]
    }
   ],
   "source": [
    "sorted(scores_svm.keys())\n",
    "\n",
    "print(\"Train Accuracy: %0.3f (std %0.3f)\" % (scores_svm['train_score'].mean(), scores_svm['train_score'].std()))\n",
    "print(\"Test Accuracy: %0.3f (std %0.3f)\" % (scores_svm['test_score'].mean(), scores_svm['test_score'].std()))\n",
    "\n",
    "\n"
   ]
  },
  {
   "cell_type": "code",
   "execution_count": 41,
   "metadata": {},
   "outputs": [],
   "source": [
    "class TuplesToColumns(BaseEstimator, TransformerMixin):\n",
    "    \"\"\"\n",
    "    Class for building sklearn Pipeline step. \n",
    "    This class turns columns from a pandas data frame (type Series) that\n",
    "    contain tuples of integer or float values into separate array columns \n",
    "    that can be used as inout in ML pipelines.\n",
    "    \"\"\"\n",
    "    \n",
    "    # initialise\n",
    "    def __init__(self):\n",
    "        self              #could also use 'pass'\n",
    "        \n",
    "    # \n",
    "    def fit(self, X, y=None):\n",
    "        return self\n",
    "    \n",
    "    def transform(self, X):        #X: dataset to pass to the transformer.\n",
    "        cols_df = pd.DataFrame()\n",
    "        for name, valuez in X.iteritems():\n",
    "            valuez_df = pd.DataFrame(valuez.values.tolist())\n",
    "            cols_df = pd.concat([cols_df, valuez_df], axis=1)\n",
    "        return cols_df.values\n",
    "    "
   ]
  },
  {
   "cell_type": "code",
   "execution_count": 42,
   "metadata": {},
   "outputs": [],
   "source": [
    "pipe_lda_topic_pbs_2 = Pipeline([\n",
    "    \n",
    "    ('selector', ColumnSelector(columns=['ranked_topics_lda', 'ranked_topics_pbs_lda'])),\n",
    "    ('toarray', TuplesToColumns())\n",
    "])\n",
    "\n"
   ]
  },
  {
   "cell_type": "code",
   "execution_count": 43,
   "metadata": {},
   "outputs": [],
   "source": [
    "lda_bow_svm_clf_2 = Pipeline([\n",
    "        \n",
    "        # Combined text (bag-of-word) and ad-hoc features\n",
    "        ('features', FeatureUnion(\n",
    "            \n",
    "                transformer_list = [\n",
    "                        ('lda', pipe_lda_topic_pbs_2),\n",
    "                        ('bow', pipe_bags_words)\n",
    "                        ],\n",
    "            \n",
    "                # weight components in FeatureUnion\n",
    "                transformer_weights={\n",
    "                        'lda': 0.6,\n",
    "                        'bow': 1.0\n",
    "                        }    \n",
    "                )),\n",
    "        \n",
    "        # Use classifier on combined features\n",
    "        ('classifier', svm)\n",
    "        \n",
    "        ])\n",
    "\n",
    "\n"
   ]
  },
  {
   "cell_type": "code",
   "execution_count": 44,
   "metadata": {},
   "outputs": [],
   "source": [
    "X = text_df[['text', 'ranked_topics_lda', 'ranked_topics_pbs_lda']]\n",
    "y = text_df.score.values"
   ]
  },
  {
   "cell_type": "code",
   "execution_count": 45,
   "metadata": {},
   "outputs": [],
   "source": [
    "scores_svm = cross_validate(lda_bow_svm_clf_2, X, y, cv = 5, return_train_score=True)"
   ]
  },
  {
   "cell_type": "code",
   "execution_count": 46,
   "metadata": {},
   "outputs": [
    {
     "name": "stdout",
     "output_type": "stream",
     "text": [
      "Train Accuracy: 0.998 (std 0.001)\n",
      "Test Accuracy: 0.816 (std 0.023)\n"
     ]
    }
   ],
   "source": [
    "sorted(scores_svm.keys())\n",
    "\n",
    "print(\"Train Accuracy: %0.3f (std %0.3f)\" % (scores_svm['train_score'].mean(), scores_svm['train_score'].std()))\n",
    "print(\"Test Accuracy: %0.3f (std %0.3f)\" % (scores_svm['test_score'].mean(), scores_svm['test_score'].std()))\n"
   ]
  },
  {
   "cell_type": "code",
   "execution_count": null,
   "metadata": {},
   "outputs": [],
   "source": []
  },
  {
   "cell_type": "code",
   "execution_count": null,
   "metadata": {},
   "outputs": [],
   "source": []
  },
  {
   "cell_type": "code",
   "execution_count": null,
   "metadata": {},
   "outputs": [],
   "source": []
  },
  {
   "cell_type": "code",
   "execution_count": 47,
   "metadata": {},
   "outputs": [],
   "source": [
    "ttc = TuplesToColumns()"
   ]
  },
  {
   "cell_type": "code",
   "execution_count": 48,
   "metadata": {},
   "outputs": [
    {
     "data": {
      "text/plain": [
       "array([[3.        , 1.        , 0.        , ..., 0.03571429, 0.03571429,\n",
       "        0.03571429],\n",
       "       [5.        , 3.        , 0.        , ..., 0.05555556, 0.05555556,\n",
       "        0.05555556],\n",
       "       [6.        , 0.        , 1.        , ..., 0.05555556, 0.05555556,\n",
       "        0.05555556],\n",
       "       ...,\n",
       "       [1.        , 4.        , 0.        , ..., 0.03571429, 0.03571429,\n",
       "        0.03571429],\n",
       "       [1.        , 0.        , 3.        , ..., 0.05555564, 0.05555556,\n",
       "        0.05555556],\n",
       "       [0.        , 1.        , 2.        , ..., 0.125     , 0.125     ,\n",
       "        0.125     ]])"
      ]
     },
     "execution_count": 48,
     "metadata": {},
     "output_type": "execute_result"
    }
   ],
   "source": [
    "ttc.fit_transform(text_df[['ranked_topics_lda', 'ranked_topics_pbs_lda']])"
   ]
  },
  {
   "cell_type": "code",
   "execution_count": null,
   "metadata": {},
   "outputs": [],
   "source": []
  }
 ],
 "metadata": {
  "kernelspec": {
   "display_name": "Python 3",
   "language": "python",
   "name": "python3"
  },
  "language_info": {
   "codemirror_mode": {
    "name": "ipython",
    "version": 3
   },
   "file_extension": ".py",
   "mimetype": "text/x-python",
   "name": "python",
   "nbconvert_exporter": "python",
   "pygments_lexer": "ipython3",
   "version": "3.7.0"
  }
 },
 "nbformat": 4,
 "nbformat_minor": 2
}
